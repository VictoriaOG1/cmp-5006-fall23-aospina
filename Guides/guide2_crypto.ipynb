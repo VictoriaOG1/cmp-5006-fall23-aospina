{
 "cells": [
  {
   "attachments": {},
   "cell_type": "markdown",
   "metadata": {},
   "source": [
    "# Research Topics Cryptography Part 2\n",
    "\n",
    "## 1. Math Topics\n",
    "\n",
    "### Probability Review\n"
   ]
  },
  {
   "attachments": {},
   "cell_type": "markdown",
   "metadata": {},
   "source": [
    "**1. What is the concept of probability and, conditional probability and joint probability in the context of cybersecurity.**\n",
    "\n",
    "Probability is a measure of the likelihood of an event occurring. It is expressed as a value between 0 and 1, where 0 indicates that an event is impossible, and 1 indicates that it is certain. Probability is used in cybersecurity to assess the likelihood of various security events or incidents, such as a data breach, malware infection, or a successful cyberattack. By quantifying the probability of such events, organizations can prioritize their security efforts and allocate resources effectively.\n",
    "\n",
    "Conditional probability is the probability of an event occurring given that another event has already occurred. It quantifies the likelihood of an outcome under specific conditions or constraints. Conditional probability is valuable in cybersecurity for assessing risks and making decisions based on contextual information. For example, it can be used to calculate the probability of a system being compromised given certain vulnerabilities and the organization's security posture. \n",
    "\n",
    "Joint probability is the probability of two or more events occurring simultaneously. It provides insight into the likelihood of multiple events happening together. oint probability can be used to model complex attack scenarios where multiple vulnerabilities or attack vectors may be exploited in combination. By understanding the joint probability of these events, organizations can identify potential high-risk situations and develop strategies to mitigate them."
   ]
  }
 ],
 "metadata": {
  "language_info": {
   "name": "python"
  },
  "orig_nbformat": 4
 },
 "nbformat": 4,
 "nbformat_minor": 2
}
