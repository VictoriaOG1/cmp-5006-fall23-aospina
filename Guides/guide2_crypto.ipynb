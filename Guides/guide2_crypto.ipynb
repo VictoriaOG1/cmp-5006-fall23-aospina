{
 "cells": [
  {
   "attachments": {},
   "cell_type": "markdown",
   "metadata": {},
   "source": [
    "# Research Topics Cryptography Part 2\n",
    "\n",
    "## 1. Math Topics\n",
    "\n",
    "### Probability Review\n"
   ]
  },
  {
   "attachments": {},
   "cell_type": "markdown",
   "metadata": {},
   "source": [
    "**1. What is the concept of probability and, conditional probability and joint probability in the context of cybersecurity.**\n",
    "\n",
    "Probability is a measure of the likelihood of an event occurring. It is expressed as a value between 0 and 1, where 0 indicates that an event is impossible, and 1 indicates that it is certain. Probability is used in cybersecurity to assess the likelihood of various security events or incidents, such as a data breach, malware infection, or a successful cyberattack. By quantifying the probability of such events, organizations can prioritize their security efforts and allocate resources effectively.\n",
    "\n",
    "Conditional probability is the probability of an event occurring given that another event has already occurred. It quantifies the likelihood of an outcome under specific conditions or constraints. Conditional probability is valuable in cybersecurity for assessing risks and making decisions based on contextual information. For example, it can be used to calculate the probability of a system being compromised given certain vulnerabilities and the organization's security posture. \n",
    "\n",
    "Joint probability is the probability of two or more events occurring simultaneously. It provides insight into the likelihood of multiple events happening together. oint probability can be used to model complex attack scenarios where multiple vulnerabilities or attack vectors may be exploited in combination. By understanding the joint probability of these events, organizations can identify potential high-risk situations and develop strategies to mitigate them."
   ]
  },
  {
   "cell_type": "markdown",
   "metadata": {},
   "source": [
    "### Entropy\n",
    "**1. What is entropy and how is it relevant to cybersecurity?**\n",
    "\n",
    "Entropy refers to the measure of randomness or uncertainty in a system. In cybersecurity, it is used to quantify the unpredictability of data or the amount of disorder in information. Entropy can be used to measure the strength of cryptographic algorithms and assess the randomness of data. It is also used in information theory to quantify the amount of information in a message or signal. Entropy is highly relevant to cybersecurity because it helps assess the quality of random number generators, evaluate the strength of cryptographic algorithms, and measure the unpredictability of data used in security protocols.\n",
    "\n",
    "**2. How can entropy be used to measure the randomness of data?**\n",
    "\n",
    "Entropy can be used to measure the randomness of data by calculating the Shannon entropy of a sequence of symbols. The Shannon entropy of a sequence is defined as the average number of bits required to encode each symbol in the sequence. It is calculated by summing the product of the probability of each symbol and the logarithm of its probability. The Shannon entropy of a sequence is maximized when all symbols are equally likely, and it is minimized when only one symbol occurs with probability 1. The Shannon entropy of a sequence can be used to measure the randomness of data because it is maximized when all symbols are equally likely, and it is minimized when only one symbol occurs with probability 1.\n",
    "\n",
    "**3. Discuss the relationship between entropy and the strength of cryptographic algorithms.**\n",
    "\n",
    "The strength of a cryptographic algorithm is directly related to the entropy of its key space. The key space of a cryptographic algorithm is the set of all possible keys that can be used to encrypt or decrypt data. The entropy of a key space is defined as the logarithm of the number of possible keys. The strength of a cryptographic algorithm is directly related to the entropy of its key space because the larger the key space, the more difficult it is to brute force the algorithm. For example, a 128-bit key space has an entropy of 128 bits, which means that there are 2^128 possible keys. It would take an attacker an average of 2^128 attempts to brute force the algorithm, which is infeasible with current technology."
   ]
  }
 ],
 "metadata": {
  "language_info": {
   "name": "python"
  },
  "orig_nbformat": 4
 },
 "nbformat": 4,
 "nbformat_minor": 2
}
