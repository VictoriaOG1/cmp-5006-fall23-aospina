{
 "cells": [
  {
   "cell_type": "markdown",
   "metadata": {},
   "source": [
    "# Work Guide: Classical Cryptography"
   ]
  },
  {
   "cell_type": "markdown",
   "metadata": {},
   "source": [
    "## Part 1: Research Topics\n",
    "\n",
    "In this section, you will research various classical cryptography topics. Each topic has a set of questions to guide your learning. Avoid repetition and ensure that the questions are slightly different for each topic."
   ]
  },
  {
   "cell_type": "markdown",
   "metadata": {},
   "source": [
    "### 1. The Shift Cipher"
   ]
  },
  {
   "cell_type": "markdown",
   "metadata": {},
   "source": [
    "**1. What is the shift cipher and how does it work?**\n",
    "\n",
    "Also known as a Caesar cipher, is a simple encryption method. It works by shifting each letter in a message by a fixed number of positions in the alphabet. For instance, a shift of 3 would turn \"A\" into \"D.\" To decrypt, you shift the letters back by the same amount."
   ]
  },
  {
   "cell_type": "markdown",
   "metadata": {},
   "source": [
    "**2. How can you encrypt and decrypt messages using the shift cipher?**\n",
    "\n",
    "To encrypt messages, first we have to choose a shift value and afterwards replace each letter in the message with the letter shifted by the chosen value. To decrypt we use the same value and replace each encrypted letter with the letter shifted back by the chosen value.\n"
   ]
  },
  {
   "cell_type": "markdown",
   "metadata": {},
   "source": [
    "**3. What are the limitations and vulnerabilities of the shift cipher?**\n",
    "\n",
    "There are many limitations and vulnerabilities such as weak key space and frequent patterns which can lead to easy brute force attacks . Therefore it has high vulneravility and low security when sharing information. In addition, it only works with letters so it was limited applicability."
   ]
  },
  {
   "cell_type": "markdown",
   "metadata": {},
   "source": [
    "**4. Can you provide an example of a real-world application of the shift cipher?**\n",
    "\n",
    "I think its main application is in the educational field because its lack of security can't make it a good security mesure for companies to use. So it can be used in assignments and classes so people get to know the basics of cryptography."
   ]
  },
  {
   "cell_type": "markdown",
   "metadata": {},
   "source": [
    "**5. How does the shift cipher relate to modular arithmetic?**\n",
    "\n",
    "It relies on modular arithmetic because the encryption can be represented mathematically, with modulus as C = (P + K) mod 26  'P' represents the position of the plaintext letter, 'C' represents the position of the corresponding ciphertext letter, and 'K' is the shift key. The same with the decryption P = (C - K) mod 26."
   ]
  },
  {
   "cell_type": "markdown",
   "metadata": {},
   "source": [
    "### 2. The Substitution Cipher"
   ]
  },
  {
   "cell_type": "markdown",
   "metadata": {},
   "source": [
    "**1. What is the substitution cipher and how does it differ from the shift cipher?**\n",
    "\n",
    "Substitution replaces each letter with another letter, while shift shifts letters by a fixed amount. Substitution is more flexible and complex."
   ]
  },
  {
   "cell_type": "markdown",
   "metadata": {},
   "source": [
    "**2. How can you create a substitution cipher using a keyword or a random permutation?**\n",
    "\n",
    "Use a keyword or random permutation to assign unique letters to each letter of the alphabet, creating a substitution key."
   ]
  },
  {
   "cell_type": "markdown",
   "metadata": {},
   "source": [
    "**3. What are the advantages and disadvantages of the substitution cipher?**\n",
    "\n",
    "Substitution ciphers offer simplicity and flexibility, but their vulnerability to modern cryptanalysis methods and the advent of more secure encryption methods make them unsuitable for secure communications in today's digital age"
   ]
  },
  {
   "cell_type": "markdown",
   "metadata": {},
   "source": [
    "**4. How can frequency analysis be used to break a substitution cipher?**\n",
    "\n",
    "Frequency analysis examines letter patterns in the ciphertext, deducing the most frequent letters and their likely substitutions. Breaks substitution ciphers by identifying common letters in the ciphertext and matching them to frequently used letters in the language."
   ]
  },
  {
   "cell_type": "markdown",
   "metadata": {},
   "source": [
    "**5. Can you provide an example of a historical use of the substitution cipher?**\n",
    "\n",
    "The Playfair cipher is a more complex form of substitution cipher that was used during the Victorian era and World War I."
   ]
  },
  {
   "cell_type": "markdown",
   "metadata": {},
   "source": [
    "### 3. The Affine Cipher"
   ]
  },
  {
   "cell_type": "markdown",
   "metadata": {},
   "source": [
    "**1. What is the affine cipher and how does it combine the shift and substitution ciphers?**\n",
    "\n",
    "The affine cipher is a substitution cipher that combines elements of both the shift and substitution ciphers. It uses a mathematical formula to encrypt each letter, involving multiplicative and additive keys. The formula combines shifting and substitution in one step, making the cipher more complex. "
   ]
  },
  {
   "cell_type": "markdown",
   "metadata": {},
   "source": [
    "**2. How can you encrypt and decrypt messages using the affine cipher?**\n",
    "\n",
    "To encrypt first choose two keys ¡, we will call it 'a' and 'b' for each letter of the text convert it to a number (A=0, B=1, ..., Z=25) then apply the formula $$E(x) = (ax + b) \\mod 26$$ where x is the letter. To decrypt first convert each letter to number just as the encryption and then convert the letter with the formula $$D(y) = a^{-1} \\cdot (y - b)$$"
   ]
  },
  {
   "cell_type": "markdown",
   "metadata": {},
   "source": [
    "**3. What are the advantages and vulnerabilities of the affine cipher?**\n",
    "\n",
    "Som advantages are larger key space comparted to the previous and simpler ciphers, more complex encryption using modular arithmetic. Some disanvantages are linear structure makes it vulnerable attacks and to frequency analysis modular arithmetic patterns can reveal information "
   ]
  },
  {
   "cell_type": "markdown",
   "metadata": {},
   "source": [
    "**4. How can you break the affine cipher using known plaintext attacks?**\n",
    "\n",
    "First the attack gathers known plaintext and corresponding ciphertext pairs, sets up equations based on the known pairs utilizing the cipher's linear formula. Then solves equations to find the corresponding keys and with this it can decrypt the other ciphertexts. "
   ]
  },
  {
   "cell_type": "markdown",
   "metadata": {},
   "source": [
    "**5. Can you provide an example of a practical use of the affine cipher?**\n",
    "\n",
    "One practical use of the Affine Cipher could be in educational settings or programming challenges. It's often used to introduce students to basic concepts of cryptography"
   ]
  },
  {
   "cell_type": "markdown",
   "metadata": {},
   "source": [
    "### 4. The Hill Cipher"
   ]
  },
  {
   "cell_type": "markdown",
   "metadata": {},
   "source": [
    "**1. What is the Hill cipher and how does it differ from previous ciphers?**\n",
    "\n",
    "The Hill cipher a more advanced cryptographic technique  than previous ones like shift, substitution, and affine ciphers. It works on blocks of letters using matrix math, making it resistant to frequency analysis. The encryption key is a matrix, making it more complex and secure"
   ]
  },
  {
   "cell_type": "markdown",
   "metadata": {},
   "source": [
    "**2. How can you encrypt and decrypt messages using the Hill cipher?**\n",
    "\n",
    "To encrypt first we have to choose a square a matrix as the encryption key, then que break the plaintext into blocks it could be pairs or triplets matching the matrix size, we convert each block to numerical values as previously seen then we multiply each block with the key matrix and finally convert resulting numerical values back to letters. To decrypt we coompute the matrix inverse of the key than we break the encrypted message into blocks matching matrix size so next we multiply each block with the inverse matrix. Finally, convert resulting numerical values back to letters.  "
   ]
  },
  {
   "cell_type": "markdown",
   "metadata": {},
   "source": [
    "**3. What are the advantages and limitations of the Hill cipher?**\n",
    "\n",
    "Some advantages are its polygraphic nature which can resist frequency analysis. Also the matrix mathematics of its nature provide higher security, and the key space makes attacks harder. But it has some limitations such as we cannot just choose whatever matrix we have to choose one that has an invertible matrix, block size is limited by the key, and as the key gets higher it requires more computational resources."
   ]
  },
  {
   "cell_type": "markdown",
   "metadata": {},
   "source": [
    "**4. How does the Hill cipher utilize matrix operations?**\n",
    "\n",
    "It utilizes for both encryption and decryption because the key is a matrix. When we convert the plaintext in numerical numers and into a block we have to multiple this with the matrix or key using standard matrix multiplication rules. Also for decryption we have to calculate the inverse of the key a typical operation used with matrixes.  "
   ]
  },
  {
   "cell_type": "markdown",
   "metadata": {},
   "source": [
    "**5. Can you provide an example of a real-world application of the Hill cipher?**\n",
    "\n",
    "The Hill cipher, due to its higher security compared to simpler ciphers, has historically found application in military and diplomatic communications. During World War II, the Hill cipher was used by some military entities to encrypt sensitive messages."
   ]
  },
  {
   "cell_type": "markdown",
   "metadata": {},
   "source": [
    "### 5. The Permutation Cipher"
   ]
  },
  {
   "cell_type": "markdown",
   "metadata": {},
   "source": [
    "**1. What is the permutation cipher and how does it work?**\n",
    "\n",
    "The permutation cipher, also known as the transposition cipher, is a cryptographic technique that rearranges the order of characters in the plaintext to form the ciphertext. It doesn't change the characters themselves, only their positions. This method provides an additional layer of complexity to encryption."
   ]
  },
  {
   "cell_type": "markdown",
   "metadata": {},
   "source": [
    "**2. How can you encrypt and decrypt messages using the permutation cipher?**\n",
    "\n",
    "For encryption we first choose a secret key that represents the order in which characters will be rearranged. Than we write the plain text in rwos based on the key length. We finish by reading columns of the rows in order determined by the key forming the ciphertext. For decryption we use the same key to arrange the columns of the ciphertext, we read the rows to recover the original plaintext order. "
   ]
  },
  {
   "cell_type": "markdown",
   "metadata": {},
   "source": [
    "**3. What are the strengths and weaknesses of the permutation cipher?**\n",
    "\n",
    "It doesn't changes the original values so it is resistant to freuqency analysis, rearranging characters adds complexity and the key management is easy because it is usual a sequence of numbers. But it has its downsides, first it has limited security because it can beeasily attacked with pattern analysis, reliance on key secrecy, and lack of character substitution, it still can have patterns. "
   ]
  },
  {
   "cell_type": "markdown",
   "metadata": {},
   "source": [
    "**4. How can you break the permutation cipher using brute force or frequency analysis?**\n",
    "\n",
    "Brute force involves trying all possible permutations of the characters to decipher the message. However, this becomes impractical for longer key lengths due to the exponential growth in possibilities. On the other hand, frequency analysis is less effective against the permutation cipher compared to substitution ciphers. While it can reveal certain patterns, the cipher's strength lies in the preservation of character values. However, if patterns or repeating structures are present in the plaintext, they might still emerge in the ciphertext after rearrangement.\n"
   ]
  },
  {
   "cell_type": "markdown",
   "metadata": {},
   "source": [
    "**5. Can you provide an example of a historical use of the permutation cipher?**\n",
    "\n",
    "The Scytale is a historical example of a permutation cipher used by the ancient Greeks. It's a transposition cipher that involves wrapping a strip of parchment or leather around a cylindrical rod, called a scytale, and writing the message along the rod. When unwound, the message becomes scrambled and can only be read correctly by someone with a rod of the same diameter."
   ]
  },
  {
   "cell_type": "markdown",
   "metadata": {},
   "source": [
    "### 6. LFSR Stream Cipher"
   ]
  },
  {
   "cell_type": "markdown",
   "metadata": {},
   "source": [
    "**1. What is an LFSR stream cipher and how does it generate a keystream?**\n",
    "\n",
    "LFSR stream cipher is a cryptographic technique that generates a pseudo-random keystream using a linear feedback shift register. Keystream is produced by repeatedly clocking the LFSR, shifting its bits, and using XOR feedback from specific positions. This keystream is used to encrypt plaintext via XOR operation. The cipher's strength depends on the feedback polynomial and initial state."
   ]
  },
  {
   "cell_type": "markdown",
   "metadata": {},
   "source": [
    "**2. How can you encrypt and decrypt messages using an LFSR stream cipher?**\n",
    "\n",
    "For encryption we choose an initial state for the LFSR and set the feedback polynomial, then lock the LFSR for a specified number of cycles to generate the keystream and perform a bitwise XOR between the plaintext and the generated keystream. This produces the ciphertext. For decryption set the LFSR to the same initial state and use the same feedback polynomial. Then clock the LFSR again for the same number of cycles to regenerate the same keystream.And finally perform a bitwise XOR between the ciphertext and the regenerated keystream. This recovers the original plaintext."
   ]
  },
  {
   "cell_type": "markdown",
   "metadata": {},
   "source": [
    "**3. What are the advantages and vulnerabilities of an LFSR stream cipher?**\n",
    "\n",
    "Some advantages are efficient and speedy encryption, simple to implement in hardware and software, well-suited for real-time communication. But on the other hand the are vulnarabilities such as periodic keystream repetition, predictable patterns if poorly configured, vulnerable to known plaintext attacks, risk of catastrophic security, failure with keystream reuse, susceptibility to algebraic and statistical attacks."
   ]
  },
  {
   "cell_type": "markdown",
   "metadata": {},
   "source": [
    "**4. How can you break an LFSR stream cipher using known plaintext attacks?**\n",
    "\n",
    "First we gather known plaintext-ciphertext pairs. Then we XOR known plaintext with corresponding ciphertext to get the keystream. We analyze keystream for patterns so then we can determine LFSR's feedback polynomial and initial state. Finally we predict future keystream using acquired information and decrypt other ciphertexts using predicted keystream."
   ]
  },
  {
   "cell_type": "markdown",
   "metadata": {},
   "source": [
    "**5. Can you provide an example of a modern use of an LFSR stream cipher?**\n",
    "\n",
    "LFSR stream ciphers find application in secure wireless communication systems, such as Bluetooth and Wi-Fi protocols. They are used to encrypt data exchanged between devices to ensure confidentiality and prevent unauthorized access to sensitive information. LFSR stream ciphers offer the advantage of efficient encryption in resource-constrained devices, making them suitable for real-time communication. However, they must be carefully implemented and configured to withstand modern cryptanalysis techniques and evolving security threats."
   ]
  },
  {
   "cell_type": "markdown",
   "metadata": {},
   "source": [
    "## Part 2: Cryptanalysis Research\n",
    "\n",
    "In this section, you will research various cryptanalysis techniques for classical ciphers. Each topic has a set of questions to guide your learning."
   ]
  },
  {
   "cell_type": "markdown",
   "metadata": {},
   "source": [
    "### 1. Introduction to Cryptanalysis"
   ]
  },
  {
   "cell_type": "markdown",
   "metadata": {},
   "source": [
    "**1. What is cryptanalysis and why is it important in cybersecurity?**\n"
   ]
  },
  {
   "cell_type": "markdown",
   "metadata": {},
   "source": [
    "**2. What are the different types of cryptanalysis techniques?**\n"
   ]
  },
  {
   "cell_type": "markdown",
   "metadata": {},
   "source": [
    "**3. How does cryptanalysis differ from cryptography?**\n"
   ]
  },
  {
   "cell_type": "markdown",
   "metadata": {},
   "source": [
    "**4. Can you provide an example of a famous cryptanalysis success story?**\n"
   ]
  },
  {
   "cell_type": "markdown",
   "metadata": {},
   "source": [
    "**5. What are the ethical considerations in cryptanalysis?**"
   ]
  },
  {
   "cell_type": "markdown",
   "metadata": {},
   "source": [
    "# Lab Guide: Cryptography Programming Exercises"
   ]
  },
  {
   "cell_type": "markdown",
   "metadata": {},
   "source": [
    "### 1. Shift Cipher"
   ]
  },
  {
   "cell_type": "markdown",
   "metadata": {},
   "source": [
    "#### Exercise:\n",
    "Write a Python function `shift_cipher_encrypt(plaintext, shift)` that takes a plaintext string and a shift value as input and returns the corresponding ciphertext using the shift cipher."
   ]
  },
  {
   "cell_type": "code",
   "execution_count": 2,
   "metadata": {},
   "outputs": [
    {
     "name": "stdout",
     "output_type": "stream",
     "text": [
      "Encrypted Hello :  Khoor\n",
      "Encrypted World :  Btwqi\n"
     ]
    }
   ],
   "source": [
    "def shift_cipher_encrypt(plaintext, shift):\n",
    "    ciphertext = \"\"\n",
    "    for char in plaintext:\n",
    "        if char.isalpha(): #If it is an alphabetic character\n",
    "            is_upper = char.isupper() #If it is uppercase or not\n",
    "            #Calculates the shifted character's ASCII value by first determining whether the character is uppercase or lowercase and then \n",
    "            #performing the shift operation using modular arithmetic to wrap around the alphabet\n",
    "            shifted_char = chr(((ord(char) - ord('A' if is_upper else 'a') + shift) % 26) + ord('A' if is_upper else 'a'))             \n",
    "            ciphertext += shifted_char\n",
    "        else:\n",
    "            ciphertext += char\n",
    "    return ciphertext\n",
    "\n",
    "plaintext1 = \"Hello\"\n",
    "plaintext2 = \"World\"\n",
    "shift1 = 3\n",
    "shift2 = 5\n",
    "encrypted_text1 = shift_cipher_encrypt(plaintext1, shift1)\n",
    "print(\"Encrypted\", plaintext1, \": \", encrypted_text1)\n",
    "encrypted_text2 = shift_cipher_encrypt(plaintext2, shift2)\n",
    "print(\"Encrypted\", plaintext2, \": \", encrypted_text2)"
   ]
  },
  {
   "cell_type": "code",
   "execution_count": 4,
   "metadata": {},
   "outputs": [
    {
     "name": "stdout",
     "output_type": "stream",
     "text": [
      "Ciphertext: Rclla\n"
     ]
    }
   ],
   "source": [
    "def affine_cipher_encrypt(plaintext, a, b):\n",
    "    def encrypt_char(char):\n",
    "        if char.isalpha():\n",
    "            if char.islower():\n",
    "                return chr(((a * (ord(char) - ord('a')) + b) % 26) + ord('a'))\n",
    "            else:\n",
    "                return chr(((a * (ord(char) - ord('A')) + b) % 26) + ord('A'))\n",
    "        else:\n",
    "            return char\n",
    "    \n",
    "    encrypted_text = ''.join(encrypt_char(char) for char in plaintext)\n",
    "    return encrypted_text\n",
    "\n",
    "# Example usage\n",
    "plaintext = \"Hello\"\n",
    "a = 5\n",
    "b = 8\n",
    "ciphertext = affine_cipher_encrypt(plaintext, a, b)\n",
    "print(\"Ciphertext:\", ciphertext)"
   ]
  }
 ],
 "metadata": {
  "kernelspec": {
   "display_name": "base",
   "language": "python",
   "name": "python3"
  },
  "language_info": {
   "codemirror_mode": {
    "name": "ipython",
    "version": 3
   },
   "file_extension": ".py",
   "mimetype": "text/x-python",
   "name": "python",
   "nbconvert_exporter": "python",
   "pygments_lexer": "ipython3",
   "version": "3.9.13"
  },
  "orig_nbformat": 4
 },
 "nbformat": 4,
 "nbformat_minor": 2
}
