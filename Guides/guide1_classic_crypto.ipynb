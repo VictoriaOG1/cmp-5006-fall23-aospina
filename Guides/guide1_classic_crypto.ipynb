{
 "cells": [
  {
   "attachments": {},
   "cell_type": "markdown",
   "metadata": {},
   "source": [
    "# Work Guide: Classical Cryptography"
   ]
  },
  {
   "attachments": {},
   "cell_type": "markdown",
   "metadata": {},
   "source": [
    "## Part 1: Research Topics\n",
    "\n",
    "In this section, you will research various classical cryptography topics. Each topic has a set of questions to guide your learning. Avoid repetition and ensure that the questions are slightly different for each topic."
   ]
  },
  {
   "attachments": {},
   "cell_type": "markdown",
   "metadata": {},
   "source": [
    "### 1. The Shift Cipher"
   ]
  },
  {
   "attachments": {},
   "cell_type": "markdown",
   "metadata": {},
   "source": [
    "**1. What is the shift cipher and how does it work?**\n",
    "\n",
    "Also known as a Caesar cipher, is a simple encryption method. It works by shifting each letter in a message by a fixed number of positions in the alphabet. For instance, a shift of 3 would turn \"A\" into \"D.\" To decrypt, you shift the letters back by the same amount."
   ]
  },
  {
   "attachments": {},
   "cell_type": "markdown",
   "metadata": {},
   "source": [
    "**2. How can you encrypt and decrypt messages using the shift cipher?**\n",
    "\n",
    "To encrypt messages, first we have to choose a shift value and afterwards replace each letter in the message with the letter shifted by the chosen value. To decrypt we use the same value and replace each encrypted letter with the letter shifted back by the chosen value.\n"
   ]
  },
  {
   "attachments": {},
   "cell_type": "markdown",
   "metadata": {},
   "source": [
    "**3. What are the limitations and vulnerabilities of the shift cipher?**\n",
    "\n",
    "There are many limitations and vulnerabilities such as weak key space and frequent patterns which can lead to easy brute force attacks . Therefore it has high vulneravility and low security when sharing information. In addition, it only works with letters so it was limited applicability."
   ]
  },
  {
   "attachments": {},
   "cell_type": "markdown",
   "metadata": {},
   "source": [
    "**4. Can you provide an example of a real-world application of the shift cipher?**\n",
    "\n",
    "I think its main application is in the educational field because its lack of security can't make it a good security mesure for companies to use. So it can be used in assignments and classes so people get to know the basics of cryptography."
   ]
  },
  {
   "attachments": {},
   "cell_type": "markdown",
   "metadata": {},
   "source": [
    "**5. How does the shift cipher relate to modular arithmetic?**\n",
    "\n",
    "It relies on modular arithmetic because the encryption can be represented mathematically, with modulus as C = (P + K) mod 26  'P' represents the position of the plaintext letter, 'C' represents the position of the corresponding ciphertext letter, and 'K' is the shift key. The same with the decryption P = (C - K) mod 26."
   ]
  },
  {
   "attachments": {},
   "cell_type": "markdown",
   "metadata": {},
   "source": [
    "### 2. The Substitution Cipher"
   ]
  },
  {
   "attachments": {},
   "cell_type": "markdown",
   "metadata": {},
   "source": [
    "**1. What is the substitution cipher and how does it differ from the shift cipher?**\n",
    "\n",
    "Substitution replaces each letter with another letter, while shift shifts letters by a fixed amount. Substitution is more flexible and complex."
   ]
  },
  {
   "attachments": {},
   "cell_type": "markdown",
   "metadata": {},
   "source": [
    "**2. How can you create a substitution cipher using a keyword or a random permutation?**\n",
    "\n",
    "Use a keyword or random permutation to assign unique letters to each letter of the alphabet, creating a substitution key."
   ]
  },
  {
   "attachments": {},
   "cell_type": "markdown",
   "metadata": {},
   "source": [
    "**3. What are the advantages and disadvantages of the substitution cipher?**\n",
    "\n",
    "Substitution ciphers offer simplicity and flexibility, but their vulnerability to modern cryptanalysis methods and the advent of more secure encryption methods make them unsuitable for secure communications in today's digital age"
   ]
  },
  {
   "attachments": {},
   "cell_type": "markdown",
   "metadata": {},
   "source": [
    "**4. How can frequency analysis be used to break a substitution cipher?**\n",
    "\n",
    "Frequency analysis examines letter patterns in the ciphertext, deducing the most frequent letters and their likely substitutions. Breaks substitution ciphers by identifying common letters in the ciphertext and matching them to frequently used letters in the language."
   ]
  },
  {
   "attachments": {},
   "cell_type": "markdown",
   "metadata": {},
   "source": [
    "**5. Can you provide an example of a historical use of the substitution cipher?**\n",
    "\n",
    "The Playfair cipher is a more complex form of substitution cipher that was used during the Victorian era and World War I."
   ]
  },
  {
   "attachments": {},
   "cell_type": "markdown",
   "metadata": {},
   "source": [
    "### 3. The Affine Cipher"
   ]
  },
  {
   "attachments": {},
   "cell_type": "markdown",
   "metadata": {},
   "source": [
    "**1. What is the affine cipher and how does it combine the shift and substitution ciphers?**\n",
    "\n",
    "The affine cipher is a substitution cipher that combines elements of both the shift and substitution ciphers. It uses a mathematical formula to encrypt each letter, involving multiplicative and additive keys. The formula combines shifting and substitution in one step, making the cipher more complex. "
   ]
  },
  {
   "attachments": {},
   "cell_type": "markdown",
   "metadata": {},
   "source": [
    "**2. How can you encrypt and decrypt messages using the affine cipher?**\n",
    "\n",
    "To encrypt first choose two keys ¡, we will call it 'a' and 'b' for each letter of the text convert it to a number (A=0, B=1, ..., Z=25) then apply the formula $$E(x) = (ax + b) \\mod 26$$ where x is the letter. To decrypt first convert each letter to number just as the encryption and then convert the letter with the formula $$D(y) = a^{-1} \\cdot (y - b)$$"
   ]
  },
  {
   "attachments": {},
   "cell_type": "markdown",
   "metadata": {},
   "source": [
    "**3. What are the advantages and vulnerabilities of the affine cipher?**\n",
    "\n",
    "Som advantages are larger key space comparted to the previous and simpler ciphers, more complex encryption using modular arithmetic. Some disanvantages are linear structure makes it vulnerable attacks and to frequency analysis modular arithmetic patterns can reveal information "
   ]
  },
  {
   "attachments": {},
   "cell_type": "markdown",
   "metadata": {},
   "source": [
    "**4. How can you break the affine cipher using known plaintext attacks?**\n",
    "\n",
    "First the attack gathers known plaintext and corresponding ciphertext pairs, sets up equations based on the known pairs utilizing the cipher's linear formula. Then solves equations to find the corresponding keys and with this it can decrypt the other ciphertexts. "
   ]
  },
  {
   "attachments": {},
   "cell_type": "markdown",
   "metadata": {},
   "source": [
    "**5. Can you provide an example of a practical use of the affine cipher?**\n",
    "\n",
    "One practical use of the Affine Cipher could be in educational settings or programming challenges. It's often used to introduce students to basic concepts of cryptography"
   ]
  },
  {
   "attachments": {},
   "cell_type": "markdown",
   "metadata": {},
   "source": [
    "### 4. The Hill Cipher"
   ]
  },
  {
   "attachments": {},
   "cell_type": "markdown",
   "metadata": {},
   "source": [
    "**1. What is the Hill cipher and how does it differ from previous ciphers?**\n",
    "\n",
    "The Hill cipher a more advanced cryptographic technique  than previous ones like shift, substitution, and affine ciphers. It works on blocks of letters using matrix math, making it resistant to frequency analysis. The encryption key is a matrix, making it more complex and secure"
   ]
  },
  {
   "attachments": {},
   "cell_type": "markdown",
   "metadata": {},
   "source": [
    "**2. How can you encrypt and decrypt messages using the Hill cipher?**\n",
    "\n",
    "To encrypt first we have to choose a square a matrix as the encryption key, then que break the plaintext into blocks it could be pairs or triplets matching the matrix size, we convert each block to numerical values as previously seen then we multiply each block with the key matrix and finally convert resulting numerical values back to letters. To decrypt we coompute the matrix inverse of the key than we break the encrypted message into blocks matching matrix size so next we multiply each block with the inverse matrix. Finally, convert resulting numerical values back to letters.  "
   ]
  },
  {
   "attachments": {},
   "cell_type": "markdown",
   "metadata": {},
   "source": [
    "**3. What are the advantages and limitations of the Hill cipher?**\n",
    "\n",
    "Some advantages are its polygraphic nature which can resist frequency analysis. Also the matrix mathematics of its nature provide higher security, and the key space makes attacks harder. But it has some limitations such as we cannot just choose whatever matrix we have to choose one that has an invertible matrix, block size is limited by the key, and as the key gets higher it requires more computational resources."
   ]
  },
  {
   "attachments": {},
   "cell_type": "markdown",
   "metadata": {},
   "source": [
    "**4. How does the Hill cipher utilize matrix operations?**\n",
    "\n",
    "It utilizes for both encryption and decryption because the key is a matrix. When we convert the plaintext in numerical numers and into a block we have to multiple this with the matrix or key using standard matrix multiplication rules. Also for decryption we have to calculate the inverse of the key a typical operation used with matrixes.  "
   ]
  },
  {
   "attachments": {},
   "cell_type": "markdown",
   "metadata": {},
   "source": [
    "**5. Can you provide an example of a real-world application of the Hill cipher?**\n",
    "\n",
    "The Hill cipher, due to its higher security compared to simpler ciphers, has historically found application in military and diplomatic communications. During World War II, the Hill cipher was used by some military entities to encrypt sensitive messages."
   ]
  },
  {
   "attachments": {},
   "cell_type": "markdown",
   "metadata": {},
   "source": [
    "### 5. The Permutation Cipher"
   ]
  },
  {
   "attachments": {},
   "cell_type": "markdown",
   "metadata": {},
   "source": [
    "**1. What is the permutation cipher and how does it work?**\n",
    "\n",
    "The permutation cipher, also known as the transposition cipher, is a cryptographic technique that rearranges the order of characters in the plaintext to form the ciphertext. It doesn't change the characters themselves, only their positions. This method provides an additional layer of complexity to encryption."
   ]
  },
  {
   "attachments": {},
   "cell_type": "markdown",
   "metadata": {},
   "source": [
    "**2. How can you encrypt and decrypt messages using the permutation cipher?**\n",
    "\n",
    "For encryption we first choose a secret key that represents the order in which characters will be rearranged. Than we write the plain text in rwos based on the key length. We finish by reading columns of the rows in order determined by the key forming the ciphertext. For decryption we use the same key to arrange the columns of the ciphertext, we read the rows to recover the original plaintext order. "
   ]
  },
  {
   "attachments": {},
   "cell_type": "markdown",
   "metadata": {},
   "source": [
    "**3. What are the strengths and weaknesses of the permutation cipher?**\n",
    "\n",
    "It doesn't changes the original values so it is resistant to freuqency analysis, rearranging characters adds complexity and the key management is easy because it is usual a sequence of numbers. But it has its downsides, first it has limited security because it can beeasily attacked with pattern analysis, reliance on key secrecy, and lack of character substitution, it still can have patterns. "
   ]
  },
  {
   "attachments": {},
   "cell_type": "markdown",
   "metadata": {},
   "source": [
    "**4. How can you break the permutation cipher using brute force or frequency analysis?**\n",
    "\n",
    "Brute force involves trying all possible permutations of the characters to decipher the message. However, this becomes impractical for longer key lengths due to the exponential growth in possibilities. On the other hand, frequency analysis is less effective against the permutation cipher compared to substitution ciphers. While it can reveal certain patterns, the cipher's strength lies in the preservation of character values. However, if patterns or repeating structures are present in the plaintext, they might still emerge in the ciphertext after rearrangement.\n"
   ]
  },
  {
   "attachments": {},
   "cell_type": "markdown",
   "metadata": {},
   "source": [
    "**5. Can you provide an example of a historical use of the permutation cipher?**\n",
    "\n",
    "The Scytale is a historical example of a permutation cipher used by the ancient Greeks. It's a transposition cipher that involves wrapping a strip of parchment or leather around a cylindrical rod, called a scytale, and writing the message along the rod. When unwound, the message becomes scrambled and can only be read correctly by someone with a rod of the same diameter."
   ]
  },
  {
   "attachments": {},
   "cell_type": "markdown",
   "metadata": {},
   "source": [
    "### 6. LFSR Stream Cipher"
   ]
  },
  {
   "attachments": {},
   "cell_type": "markdown",
   "metadata": {},
   "source": [
    "**1. What is an LFSR stream cipher and how does it generate a keystream?**\n",
    "\n",
    "LFSR stream cipher is a cryptographic technique that generates a pseudo-random keystream using a linear feedback shift register. Keystream is produced by repeatedly clocking the LFSR, shifting its bits, and using XOR feedback from specific positions. This keystream is used to encrypt plaintext via XOR operation. The cipher's strength depends on the feedback polynomial and initial state."
   ]
  },
  {
   "attachments": {},
   "cell_type": "markdown",
   "metadata": {},
   "source": [
    "**2. How can you encrypt and decrypt messages using an LFSR stream cipher?**\n",
    "\n",
    "For encryption we choose an initial state for the LFSR and set the feedback polynomial, then lock the LFSR for a specified number of cycles to generate the keystream and perform a bitwise XOR between the plaintext and the generated keystream. This produces the ciphertext. For decryption set the LFSR to the same initial state and use the same feedback polynomial. Then clock the LFSR again for the same number of cycles to regenerate the same keystream.And finally perform a bitwise XOR between the ciphertext and the regenerated keystream. This recovers the original plaintext."
   ]
  },
  {
   "attachments": {},
   "cell_type": "markdown",
   "metadata": {},
   "source": [
    "**3. What are the advantages and vulnerabilities of an LFSR stream cipher?**\n",
    "\n",
    "Some advantages are efficient and speedy encryption, simple to implement in hardware and software, well-suited for real-time communication. But on the other hand the are vulnarabilities such as periodic keystream repetition, predictable patterns if poorly configured, vulnerable to known plaintext attacks, risk of catastrophic security, failure with keystream reuse, susceptibility to algebraic and statistical attacks."
   ]
  },
  {
   "attachments": {},
   "cell_type": "markdown",
   "metadata": {},
   "source": [
    "**4. How can you break an LFSR stream cipher using known plaintext attacks?**\n",
    "\n",
    "First we gather known plaintext-ciphertext pairs. Then we XOR known plaintext with corresponding ciphertext to get the keystream. We analyze keystream for patterns so then we can determine LFSR's feedback polynomial and initial state. Finally we predict future keystream using acquired information and decrypt other ciphertexts using predicted keystream."
   ]
  },
  {
   "attachments": {},
   "cell_type": "markdown",
   "metadata": {},
   "source": [
    "**5. Can you provide an example of a modern use of an LFSR stream cipher?**\n",
    "\n",
    "LFSR stream ciphers find application in secure wireless communication systems, such as Bluetooth and Wi-Fi protocols. They are used to encrypt data exchanged between devices to ensure confidentiality and prevent unauthorized access to sensitive information. LFSR stream ciphers offer the advantage of efficient encryption in resource-constrained devices, making them suitable for real-time communication. However, they must be carefully implemented and configured to withstand modern cryptanalysis techniques and evolving security threats."
   ]
  },
  {
   "attachments": {},
   "cell_type": "markdown",
   "metadata": {},
   "source": [
    "## Part 2: Cryptanalysis Research\n",
    "\n",
    "In this section, you will research various cryptanalysis techniques for classical ciphers. Each topic has a set of questions to guide your learning."
   ]
  },
  {
   "attachments": {},
   "cell_type": "markdown",
   "metadata": {},
   "source": [
    "### 1. Introduction to Cryptanalysis"
   ]
  },
  {
   "attachments": {},
   "cell_type": "markdown",
   "metadata": {},
   "source": [
    "**1. What is cryptanalysis and why is it important in cybersecurity?**\n",
    "\n",
    "Cryptanalysis involves analyzing cryptographic systems to uncover weaknesses or vulnerabilities. It's vital in cybersecurity to assess the strength of encryption methods and ensure that sensitive data remains protected."
   ]
  },
  {
   "attachments": {},
   "cell_type": "markdown",
   "metadata": {},
   "source": [
    "**2. What are the different types of cryptanalysis techniques?**\n",
    "\n",
    " Cryptanalysis techniques include brute force (trying all possible keys), frequency analysis (exploiting patterns), chosen plaintext/ciphertext attacks (using known inputs/outputs), side-channel attacks (exploiting unintended information leakage), and differential cryptanalysis (comparing slight input changes)."
   ]
  },
  {
   "attachments": {},
   "cell_type": "markdown",
   "metadata": {},
   "source": [
    "**3. How does cryptanalysis differ from cryptography?**\n",
    "\n",
    "Cryptanalysis focuses on breaking codes to exploit weaknesses, while cryptography involves creating codes and algorithms to secure information."
   ]
  },
  {
   "attachments": {},
   "cell_type": "markdown",
   "metadata": {},
   "source": [
    "**4. Can you provide an example of a famous cryptanalysis success story?**\n",
    "\n",
    "Alan Turing's work on breaking the German Enigma code during WWII exemplifies cryptanalysis's impact on history."
   ]
  },
  {
   "attachments": {},
   "cell_type": "markdown",
   "metadata": {},
   "source": [
    "**5. What are the ethical considerations in cryptanalysis?**\n",
    "\n",
    "Ethical aspects encompass responsible disclosure of vulnerabilities, minimizing unintended consequences, avoiding unauthorized access, and ensuring that cryptanalysis serves the purpose of enhancing security rather than causing harm"
   ]
  },
  {
   "attachments": {},
   "cell_type": "markdown",
   "metadata": {},
   "source": [
    "### 2. The Shift Cipher"
   ]
  },
  {
   "attachments": {},
   "cell_type": "markdown",
   "metadata": {},
   "source": [
    "**1. How can you break the shift cipher using brote force?**\n",
    "\n",
    "Brute force involves trying all possible shift values until the correct decryption is found. Since there are only 25 possible shifts, it's feasible to try each one and determine the meaningful result"
   ]
  },
  {
   "attachments": {},
   "cell_type": "markdown",
   "metadata": {},
   "source": [
    "**2. What is the vulnerability of the shift cipher to frequency analysis?**\n",
    "\n",
    "The shift cipher's vulnerability to frequency analysis arises from its predictable pattern. Each letter is shifted by a fixed amount, so the frequency distribution of letters in the encrypted text remains similar to that of the original language. This allows attackers to deduce the shift value by analyzing letter frequencies."
   ]
  },
  {
   "attachments": {},
   "cell_type": "markdown",
   "metadata": {},
   "source": [
    "**3. How can you improve the security of the shift cipher?**\n",
    "\n",
    "Increase the size of the key space by using a larger set of possible shifts (e.g., 128 shifts), making brute force attacks more time-consuming. Using multiple shifts in succession (polyalphabetic substitution) can also enhance security against frequency analysis."
   ]
  },
  {
   "attachments": {},
   "cell_type": "markdown",
   "metadata": {},
   "source": [
    "**4. Can you provide an example of a real-world attack on the shift cipher?**\n",
    "\n",
    "An attacker intercepts an encrypted message encrypted with a simple shift cipher. By analyzing the frequency of letters in the ciphertext, the attacker deduces that the shift value is 3 and successfully decrypts the message."
   ]
  },
  {
   "attachments": {},
   "cell_type": "markdown",
   "metadata": {},
   "source": [
    "**5. What are the limitations of cryptanalysis on the shift cipher?**\n",
    "\n",
    "The limited key space (25 possible shifts) makes the shift cipher susceptible to brute force attacks. Cryptanalysis techniques like frequency analysis work effectively due to the consistent transformation of letters. The simplicity of the cipher limits its security against modern attacks and techniques."
   ]
  },
  {
   "attachments": {},
   "cell_type": "markdown",
   "metadata": {},
   "source": [
    "### 3. The Affine Cipher"
   ]
  },
  {
   "attachments": {},
   "cell_type": "markdown",
   "metadata": {},
   "source": [
    "**1. How can you break the affine cipher using known plaintext attacks?**\n",
    "\n",
    "In a known plaintext attack, if you have pairs of plaintext and corresponding ciphertext, you can solve the affine cipher's equations to find the key values."
   ]
  },
  {
   "attachments": {},
   "cell_type": "markdown",
   "metadata": {},
   "source": [
    "**2. What is the vulnerability of the affine cipher to modular inverses?**\n",
    "\n",
    "The vulnerability of the affine cipher lies in the use of modular inverses. If the modular inverse of the chosen key is not coprime with the base, the cipher becomes weaker, as it introduces patterns and reduces the effective key space."
   ]
  },
  {
   "attachments": {},
   "cell_type": "markdown",
   "metadata": {},
   "source": [
    "**3. How can you improve the security of the affine cipher?**\n",
    "\n",
    "hoosing larger prime numbers for the key values increases the complexity and security of the cipher. Using keys that are coprime with the base ensures a full key space and reduces vulnerabilities."
   ]
  },
  {
   "attachments": {},
   "cell_type": "markdown",
   "metadata": {},
   "source": [
    "**4. Can you provide an example of a real-world attack on the affine cipher?**\n",
    "\n",
    "An attacker intercepts an affine-encrypted message and notices that \"HELLO\" becomes \"AXEEG\" with a specific key. By setting up the equations, the attacker discovers the key and decrypts the rest of the message."
   ]
  },
  {
   "attachments": {},
   "cell_type": "markdown",
   "metadata": {},
   "source": [
    "**5. What are the limitations of cryptanalysis on the affine cipher?**\n",
    "\n",
    "The affine cipher's primary limitation is its vulnerability to known plaintext attacks. If an attacker has access to pairs of plaintext-ciphertext, they can deduce the key. The small key space also makes brute force attacks feasible. Additionally, frequency analysis can still be employed if the modular arithmetic doesn't mask the letter distribution effectively."
   ]
  },
  {
   "attachments": {},
   "cell_type": "markdown",
   "metadata": {},
   "source": [
    "### 4. The Substitution Cipher"
   ]
  },
  {
   "attachments": {},
   "cell_type": "markdown",
   "metadata": {},
   "source": [
    "**1. How can you break the substitution cipher using frequency analysis?**\n",
    "\n",
    "You can break it by using frequency analysis. We do this by calculating the frequency of letters that appear in the text, and by that we can compare it with the language what is the most frequently used. We can repeat this and substitute the letters. "
   ]
  },
  {
   "attachments": {},
   "cell_type": "markdown",
   "metadata": {},
   "source": [
    "**2. What is the vulnerability of the substitution cipher to known plaintext attacks?**\n",
    "\n",
    "In this case we have the plaintext and the ciphertext and comparing the two we can determine which ciphertext letters correspond to the known plaintext letter"
   ]
  },
  {
   "attachments": {},
   "cell_type": "markdown",
   "metadata": {},
   "source": [
    "**3. How can you improve the security of the substitution cipher?**\n",
    "\n",
    "We can combine with other ciphers to make it more robust to attacks. In addition we can utilize other alphabets or multiple keys and with a random creation key."
   ]
  },
  {
   "attachments": {},
   "cell_type": "markdown",
   "metadata": {},
   "source": [
    "**4. Can you provide an example of a real-world attack on the substitution cipher?**\n",
    "\n",
    "During World War II, the German military used a variation of the substitution cipher called the Enigma machine for secure communication. British codebreakers at Bletchley Park, including Alan Turing, successfully attacked the Enigma cipher by leveraging known plaintext and extensive machinery. They developed methods to decipher intercepted messages and made significant contributions to the Allied war effort."
   ]
  },
  {
   "attachments": {},
   "cell_type": "markdown",
   "metadata": {},
   "source": [
    "**5. What are the limitations of cryptanalysis on the substitution cipher?**\n",
    "\n",
    "It is too dependent on the language it is based so it can have little variation. Also it is vulnerable to plaintext attacks therefore it is not widely used and nowadays it useless compared to other techniques.\n"
   ]
  },
  {
   "attachments": {},
   "cell_type": "markdown",
   "metadata": {},
   "source": [
    "### 5. The Hill Cipher\n",
    "\n"
   ]
  },
  {
   "attachments": {},
   "cell_type": "markdown",
   "metadata": {},
   "source": [
    "**1. How can you break the Hill cipher using matrix algebra?**\n",
    "\n",
    "To break it, you would typically need to determine the inverse of the key matrix, which can be quite challenging if the key matrix is not invertible. The steps to break the Hill cipher are as follows:\n",
    "\n",
    "1. Obtain ciphertext and a corresponding plaintext (known-plaintext attack) or a sufficient amount of ciphertext.\n",
    "2. Represent the known plaintext and ciphertext as matrices.\n",
    "3. Calculate the key matrix by solving a system of linear equations (Ax = B), where A is the plaintext matrix, B is the ciphertext matrix, and x is the key matrix.\n",
    "4. If the key matrix is invertible, find its inverse.\n",
    "5. Multiply the inverse key matrix with the ciphertext matrix to obtain the plaintext matrix."
   ]
  },
  {
   "attachments": {},
   "cell_type": "markdown",
   "metadata": {},
   "source": [
    "**2. What is the vulnerability of the Hill cipher to key length?**\n",
    "\n",
    "The Hill cipher's vulnerability to key length depends on the size of the key matrix. If the key matrix size is small (e.g., 2x2 or 3x3), it is more vulnerable to attacks because there are fewer possible keys to try. Larger key matrix sizes provide more security but require more known plaintext for successful cryptanalysis"
   ]
  },
  {
   "attachments": {},
   "cell_type": "markdown",
   "metadata": {},
   "source": [
    "**3. How can you improve the security of the Hill cipher?**\n",
    "\n",
    "* Use larger key matrix sizes.\n",
    "* Implement key management practices to keep the key secret.\n",
    "* Apply additional cryptographic techniques such as key whitening or chaining"
   ]
  },
  {
   "attachments": {},
   "cell_type": "markdown",
   "metadata": {},
   "source": [
    "**4. Can you provide an example of a real-world attack on the Hill cipher?**\n",
    "\n",
    "* The need for a sufficient amount of known plaintext.\n",
    "* Difficulty in finding the inverse of the key matrix if it's not invertible.\n",
    "* Vulnerability to mathematical attacks if the key matrix is small.\n",
    "* The security of the cipher relies heavily on the secrecy of the key."
   ]
  },
  {
   "attachments": {},
   "cell_type": "markdown",
   "metadata": {},
   "source": [
    "**5. What are the limitations of cryptanalysis on the Hill cipher?**\n",
    "\n",
    "* The effectiveness of brute force attacks depends on the complexity of the permutation.\n",
    "* Frequency analysis may not work well if the permutation completely scrambles the character distribution.\n",
    "* The security of the cipher relies heavily on the secrecy of the permutation."
   ]
  },
  {
   "attachments": {},
   "cell_type": "markdown",
   "metadata": {},
   "source": [
    "### The Permutation Cipher"
   ]
  },
  {
   "attachments": {},
   "cell_type": "markdown",
   "metadata": {},
   "source": [
    "**1. How can you break the permutation cipher using brute force or frequency analysis?**\n",
    "\n",
    "Brute force or frequency analysis, depending on the specific permutation used.\n",
    "* Brute Force: Enumerate all possible permutations and decrypt the ciphertext with each permutation until the plaintext becomes intelligible.\n",
    "* Frequency Analysis: If the permutation is not too complex, you can analyze the frequency distribution of characters in the ciphertext to make educated guesses about the permutation."
   ]
  },
  {
   "attachments": {},
   "cell_type": "markdown",
   "metadata": {},
   "source": [
    "**2. What is the vulnerability of the permutation cipher to known plaintext attacks?**\n",
    "\n",
    "The permutation cipher is highly vulnerable to known plaintext attacks. If an attacker knows parts of the plaintext and corresponding ciphertext, they can determine the permutation used for encryption."
   ]
  },
  {
   "attachments": {},
   "cell_type": "markdown",
   "metadata": {},
   "source": [
    "**3. How can you improve the security of the permutation cipher?**\n",
    "\n",
    "* Use a more complex permutation, making it harder to guess.\n",
    "* Combine the permutation cipher with other encryption methods, such as substitution ciphers or transposition ciphers."
   ]
  },
  {
   "attachments": {},
   "cell_type": "markdown",
   "metadata": {},
   "source": [
    "**4. Can you provide an example of a real-world attack on the permutation cipher?**\n",
    "\n",
    "The use of relatively simple permutations in the German Enigma machine during World War II made it vulnerable to cryptanalysis by Allied codebreakers like Alan Turing and his team at Bletchley Park"
   ]
  },
  {
   "attachments": {},
   "cell_type": "markdown",
   "metadata": {},
   "source": [
    "**5. What are the limitations of cryptanalysis on the permutation cipher?**\n",
    "\n",
    "* The effectiveness of brute force attacks depends on the complexity of the permutation.\n",
    "* Frequency analysis may not work well if the permutation completely scrambles the character distribution.\n",
    "* The security of the cipher relies heavily on the secrecy of the permutation"
   ]
  },
  {
   "attachments": {},
   "cell_type": "markdown",
   "metadata": {},
   "source": [
    "### LFSR Stream Cipher"
   ]
  },
  {
   "attachments": {},
   "cell_type": "markdown",
   "metadata": {},
   "source": [
    "**1. How can you break an LFSR stream cipher using known plaintext attacks?**\n",
    "\n",
    "Known plaintext attacks on a linear feedback shift register (LFSR) stream cipher involve recovering the internal state of the LFSR and its initial seed. This can be achieved by analyzing the relationship between the plaintext, ciphertext, and the keystream generated by the LFSR."
   ]
  },
  {
   "attachments": {},
   "cell_type": "markdown",
   "metadata": {},
   "source": [
    "**2. What is the vulnerability of an LFSR stream cipher to key length?**\n",
    "\n",
    "The security of an LFSR stream cipher depends on the length of the LFSR and the feedback polynomial used. Longer LFSRs with complex feedback polynomials provide better security. Shorter LFSRs are more vulnerable to attacks due to limited key space."
   ]
  },
  {
   "attachments": {},
   "cell_type": "markdown",
   "metadata": {},
   "source": [
    "**3. How can you improve the security of an LFSR stream cipher?**\n",
    "\n",
    "* Use longer LFSRs with complex feedback polynomials.\n",
    "* Combine the LFSR with other cryptographic primitives or ciphers.\n",
    "* Periodically update the LFSR's seed."
   ]
  },
  {
   "attachments": {},
   "cell_type": "markdown",
   "metadata": {},
   "source": [
    "**4. Can you provide an example of a real-world attack on an LFSR stream cipher?**\n",
    "\n",
    "One real-world attack is the correlation attack, where an attacker analyzes the correlation between the keystream and the ciphertext to recover the key or plaintext. This attack can be effective if the LFSR is not properly designed."
   ]
  },
  {
   "attachments": {},
   "cell_type": "markdown",
   "metadata": {},
   "source": [
    "**5. What are the limitations of cryptanalysis on an LFSR stream cipher?**\n",
    "\n",
    "* The effectiveness of attacks depends on the length and properties of the LFSR.\n",
    "* Cryptanalysis may require a substantial amount of ciphertext.\n",
    "* Strongly designed LFSR stream ciphers with long key lengths are difficult to break."
   ]
  },
  {
   "attachments": {},
   "cell_type": "markdown",
   "metadata": {},
   "source": [
    "# Lab Guide: Cryptography Programming Exercises"
   ]
  },
  {
   "attachments": {},
   "cell_type": "markdown",
   "metadata": {},
   "source": [
    "### 1. Shift Cipher"
   ]
  },
  {
   "attachments": {},
   "cell_type": "markdown",
   "metadata": {},
   "source": [
    "#### Exercise:\n",
    "Write a Python function `shift_cipher_encrypt(plaintext, shift)` that takes a plaintext string and a shift value as input and returns the corresponding ciphertext using the shift cipher."
   ]
  },
  {
   "cell_type": "code",
   "execution_count": 1,
   "metadata": {},
   "outputs": [
    {
     "name": "stdout",
     "output_type": "stream",
     "text": [
      "Encrypted Hello :  Uryyb\n",
      "Encrypted World :  Btwqi\n"
     ]
    }
   ],
   "source": [
    "def shift_cipher_encrypt(plaintext, shift):\n",
    "    ciphertext = \"\"\n",
    "    for char in plaintext:\n",
    "        if char.isalpha(): #If it is an alphabetic character\n",
    "            is_upper = char.isupper() #If it is uppercase or not\n",
    "            #Calculates the shifted character's ASCII value by first determining whether the character is uppercase or lowercase and then \n",
    "            #performing the shift operation using modular arithmetic to wrap around the alphabet\n",
    "            shifted_char = chr(((ord(char) - ord('A' if is_upper else 'a') + shift) % 26) + ord('A' if is_upper else 'a'))             \n",
    "            ciphertext += shifted_char\n",
    "        else:\n",
    "            ciphertext += char\n",
    "    return ciphertext\n",
    "\n",
    "plaintext1 = \"Hello\"\n",
    "plaintext2 = \"World\"\n",
    "shift1 = 13\n",
    "shift2 = 5\n",
    "encrypted_text1 = shift_cipher_encrypt(plaintext1, shift1)\n",
    "print(\"Encrypted\", plaintext1, \": \", encrypted_text1)\n",
    "encrypted_text2 = shift_cipher_encrypt(plaintext2, shift2)\n",
    "print(\"Encrypted\", plaintext2, \": \", encrypted_text2)"
   ]
  },
  {
   "attachments": {},
   "cell_type": "markdown",
   "metadata": {},
   "source": [
    "### 2. Substitution Cipher"
   ]
  },
  {
   "attachments": {},
   "cell_type": "markdown",
   "metadata": {},
   "source": [
    "#### Exercise:\n",
    "\n",
    "Write a Python function `substitution_cipher_encrypt(plaintext, key)` that takes a plaintext string and a substitution key as input and returns the corresponding ciphertext using the substitution cipher."
   ]
  },
  {
   "cell_type": "code",
   "execution_count": 4,
   "metadata": {},
   "outputs": [
    {
     "name": "stdout",
     "output_type": "stream",
     "text": [
      "Encrypted: XYAAZ\n"
     ]
    }
   ],
   "source": [
    "def substitution_cipher_encrypt(plaintext, key_map):\n",
    "    alphabet = 'ABCDEFGHIJKLMNOPQRSTUVWXYZ'\n",
    "    key_map = {k.upper(): v.upper() for k, v in key_map.items()}  # Convert keys and values to uppercase\n",
    "    \n",
    "    ciphertext = ''\n",
    "    \n",
    "    for char in plaintext:\n",
    "        if char.isalpha():\n",
    "            char = char.upper()  # Convert to uppercase\n",
    "            if char in key_map:\n",
    "                ciphertext += key_map[char]\n",
    "            else:\n",
    "                ciphertext += char  # Character not in key_map, retain as-is\n",
    "        else:\n",
    "            ciphertext += char  # Non-alphabet characters are retained as-is\n",
    "    \n",
    "    return ciphertext\n",
    "\n",
    "# Example usage with a key map\n",
    "substitution_key_map = {'H': 'X', 'E': 'Y', 'L': 'A', 'O': 'Z'}\n",
    "plain_text = \"HELLO\"\n",
    "encrypted_text = substitution_cipher_encrypt(plain_text, substitution_key_map)\n",
    "print(\"Encrypted:\", encrypted_text)"
   ]
  },
  {
   "attachments": {},
   "cell_type": "markdown",
   "metadata": {},
   "source": [
    "### 3. Affine Cipher"
   ]
  },
  {
   "attachments": {},
   "cell_type": "markdown",
   "metadata": {},
   "source": [
    "#### Exercise: \n",
    "\n",
    "Write a Python function `affine_cipher_encrypt(plaintext, a, b)` that takes a plaintext string and two integer values a and b as input and returns the corresponding ciphertext using the affine cipher."
   ]
  },
  {
   "cell_type": "code",
   "execution_count": 4,
   "metadata": {},
   "outputs": [
    {
     "name": "stdout",
     "output_type": "stream",
     "text": [
      "Ciphertext: Rclla\n"
     ]
    }
   ],
   "source": [
    "def affine_cipher_encrypt(plaintext, a, b):\n",
    "    def encrypt_char(char):\n",
    "        if char.isalpha():\n",
    "            if char.islower():\n",
    "                return chr(((a * (ord(char) - ord('a')) + b) % 26) + ord('a'))\n",
    "            else:\n",
    "                return chr(((a * (ord(char) - ord('A')) + b) % 26) + ord('A'))\n",
    "        else:\n",
    "            return char\n",
    "    \n",
    "    encrypted_text = ''.join(encrypt_char(char) for char in plaintext)\n",
    "    return encrypted_text\n",
    "\n",
    "# Example usage\n",
    "plaintext = \"Hello\"\n",
    "a = 5\n",
    "b = 8\n",
    "ciphertext = affine_cipher_encrypt(plaintext, a, b)\n",
    "print(\"Ciphertext:\", ciphertext)"
   ]
  },
  {
   "attachments": {},
   "cell_type": "markdown",
   "metadata": {},
   "source": [
    "### 4. Hill Cipher\n",
    "\n",
    "#### Exercise:\n",
    "\n",
    "Write a Python function `hill_cipher_encrypt(plaintext, key)` that takes a plaintext string and a 2x2 matrix key as input and returns the corresponding ciphertext using the Hill cipher."
   ]
  },
  {
   "cell_type": "code",
   "execution_count": 1,
   "metadata": {},
   "outputs": [
    {
     "name": "stdout",
     "output_type": "stream",
     "text": [
      "Ciphertext: AXDDQYBEFX\n"
     ]
    }
   ],
   "source": [
    "def hill_cipher_encrypt(plaintext, key):\n",
    "    # Convert plaintext to uppercase and remove spaces\n",
    "    plaintext = plaintext.upper().replace(\" \", \"\")\n",
    "    \n",
    "    # Ensure the plaintext length is even by adding padding if necessary\n",
    "    if len(plaintext) % 2 != 0:\n",
    "        plaintext += \"X\"\n",
    "    \n",
    "    # Define a function to multiply a 2x2 matrix by a 2x1 matrix\n",
    "    def matrix_multiply(matrix1, matrix2):\n",
    "        result = [[0], [0]]\n",
    "        for i in range(2):\n",
    "            for j in range(1):\n",
    "                for k in range(2):\n",
    "                    result[i][j] += matrix1[i][k] * matrix2[k][j]\n",
    "                result[i][j] %= 26\n",
    "        return result\n",
    "    \n",
    "    # Initialize the ciphertext\n",
    "    ciphertext = \"\"\n",
    "    \n",
    "    # Process the plaintext in blocks of 2 characters\n",
    "    for i in range(0, len(plaintext), 2):\n",
    "        # Convert characters to numerical values (A=0, B=1, ..., Z=25)\n",
    "        block = [[ord(plaintext[i]) - ord('A')], [ord(plaintext[i+1]) - ord('A')]]\n",
    "        \n",
    "        # Multiply the key matrix with the block\n",
    "        result = matrix_multiply(key, block)\n",
    "        \n",
    "        # Convert numerical values back to characters\n",
    "        char1 = chr(result[0][0] + ord('A'))\n",
    "        char2 = chr(result[1][0] + ord('A'))\n",
    "        \n",
    "        # Append the characters to the ciphertext\n",
    "        ciphertext += char1 + char2\n",
    "    \n",
    "    return ciphertext\n",
    "\n",
    "# Example usage:\n",
    "plaintext = \"HELLOWORLD\"\n",
    "key = [[2, 3], [1, 4]]\n",
    "ciphertext = hill_cipher_encrypt(plaintext, key)\n",
    "print(\"Ciphertext:\", ciphertext)"
   ]
  },
  {
   "attachments": {},
   "cell_type": "markdown",
   "metadata": {},
   "source": [
    "### 5. Permutation Cipher\n",
    "\n",
    "#### Exercise:\n",
    "\n",
    "Write a Python function `permutation_cipher_encrypt(plaintext, key)` that takes a plaintext string and a permutation key as input and returns the corresponding ciphertext using the permutation cipher."
   ]
  },
  {
   "cell_type": "code",
   "execution_count": 4,
   "metadata": {},
   "outputs": [
    {
     "name": "stdout",
     "output_type": "stream",
     "text": [
      "Ciphertext: ELHLO\n",
      "Ciphertext: RWDOL\n"
     ]
    }
   ],
   "source": [
    "def permutation_cipher_encrypt(plaintext, key):\n",
    "    # Convert plaintext to uppercase and remove spaces\n",
    "    plaintext = plaintext.upper().replace(\" \", \"\")\n",
    "    \n",
    "    # Initialize the ciphertext\n",
    "    ciphertext = \"\"\n",
    "    \n",
    "    # Create a list to hold the characters in the order specified by the key\n",
    "    rearranged_chars = [None] * len(key)\n",
    "    \n",
    "    # Rearrange the characters based on the key\n",
    "    for i, k in enumerate(key):\n",
    "        rearranged_chars[k - 1] = plaintext[i]\n",
    "    \n",
    "    # Combine the rearranged characters to form the ciphertext\n",
    "    ciphertext = \"\".join(rearranged_chars)\n",
    "    \n",
    "    return ciphertext\n",
    "\n",
    "# Example usage:\n",
    "plaintext1 = \"HELLO\"\n",
    "key1 = [3, 1, 4, 2, 5]\n",
    "ciphertext1 = permutation_cipher_encrypt(plaintext1, key1)\n",
    "print(\"Ciphertext:\", ciphertext1)\n",
    "\n",
    "plaintext2 = \"WORLD\"\n",
    "key2 = [2, 4, 1, 5, 3]\n",
    "ciphertext2 = permutation_cipher_encrypt(plaintext2, key2)\n",
    "print(\"Ciphertext:\", ciphertext2)"
   ]
  },
  {
   "attachments": {},
   "cell_type": "markdown",
   "metadata": {},
   "source": [
    "## Cryptanalysis Topics"
   ]
  },
  {
   "attachments": {},
   "cell_type": "markdown",
   "metadata": {},
   "source": [
    "### 1. Affine Cipher\n",
    "\n",
    "Write a Python function `break_affine_cipher(ciphertext)` that takes a string `ciphertext` as input and attempts to break the affine cipher by trying all possible combinations of `a` and `b` values. The function should return the most likely plaintext obtained by decrypting the ciphertext using the correct `a` and `b` values."
   ]
  },
  {
   "cell_type": "code",
   "execution_count": 9,
   "metadata": {},
   "outputs": [
    {
     "name": "stdout",
     "output_type": "stream",
     "text": [
      "QTAAD, HKRRU!\n"
     ]
    }
   ],
   "source": [
    "def mod_inverse(a, m):\n",
    "    # Calculate the modular multiplicative inverse of a modulo m\n",
    "    for x in range(1, m):\n",
    "        if (a * x) % m == 1:\n",
    "            return x\n",
    "    return None\n",
    "\n",
    "def break_affine_cipher(ciphertext):\n",
    "    best_decryption = \"\"\n",
    "    best_score = 0\n",
    "\n",
    "    for a in range(1, 26):\n",
    "        a_inverse = mod_inverse(a, 26)\n",
    "\n",
    "        if a_inverse is not None:\n",
    "            for b in range(26):\n",
    "                decrypted_text = \"\"\n",
    "                for char in ciphertext:\n",
    "                    if char.isalpha():\n",
    "                        char_value = ord(char) - ord('A')\n",
    "                        decrypted_char = chr(((a_inverse * (char_value - b)) % 26) + ord('A'))\n",
    "                        decrypted_text += decrypted_char\n",
    "                    else:\n",
    "                        decrypted_text += char\n",
    "\n",
    "                # Score the decryption based on character frequencies (you can adjust this scoring method)\n",
    "                score = sum([decrypted_text.count(char) for char in \"ETAOIN SHRDLU\"])\n",
    "\n",
    "                # If the current decryption has a higher score, update the best decryption\n",
    "                if score > best_score:\n",
    "                    best_score = score\n",
    "                    best_decryption = decrypted_text\n",
    "    \n",
    "    return best_decryption\n",
    "\n",
    "# Example usage:\n",
    "ciphertext = \"Czggj, Tqxxa!\"\n",
    "plaintext = break_affine_cipher(ciphertext)\n",
    "print(plaintext)"
   ]
  },
  {
   "attachments": {},
   "cell_type": "markdown",
   "metadata": {},
   "source": [
    "### 2. Substitution Cipher\n",
    "\n",
    "Write a Python function `break_substitution_cipher(ciphertext)` that takes a string `ciphertext` as input and attempts to break the substitution cipher by performing frequency analysis on the letters in the ciphertext. The function should return the most likely plaintext obtained by decrypting the ciphertext using the correct key."
   ]
  },
  {
   "cell_type": "code",
   "execution_count": null,
   "metadata": {},
   "outputs": [],
   "source": [
    "import string\n",
    "from itertools import permutations\n",
    "\n",
    "def break_substitution_cipher(ciphertext):\n",
    "    # Define a function to calculate the letter frequencies in the text\n",
    "    def calculate_frequencies(text):\n",
    "        frequencies = {char: 0 for char in string.ascii_uppercase}\n",
    "        total_chars = 0\n",
    "\n",
    "        for char in text:\n",
    "            if char.isalpha():\n",
    "                frequencies[char] += 1\n",
    "                total_chars += 1\n",
    "\n",
    "        for char in frequencies:\n",
    "            if total_chars > 0:\n",
    "                frequencies[char] /= total_chars\n",
    "\n",
    "        return frequencies\n",
    "\n",
    "    # Define the most common English letter frequencies\n",
    "    english_frequencies = {\n",
    "        'E': 0.127,\n",
    "        'T': 0.091,\n",
    "        'A': 0.082,\n",
    "        'O': 0.075,\n",
    "        'I': 0.070,\n",
    "        'N': 0.067,\n",
    "        'S': 0.063,\n",
    "        'H': 0.061,\n",
    "        'R': 0.060,\n",
    "        'D': 0.043,\n",
    "        'L': 0.040,\n",
    "        'C': 0.028,\n",
    "        'U': 0.028,\n",
    "        'M': 0.024,\n",
    "        'W': 0.024,\n",
    "        'F': 0.022,\n",
    "        'G': 0.020,\n",
    "        'Y': 0.019,\n",
    "        'P': 0.019,\n",
    "        'B': 0.015,\n",
    "        'V': 0.009,\n",
    "        'K': 0.008,\n",
    "        'J': 0.002,\n",
    "        'X': 0.001,\n",
    "        'Q': 0.001,\n",
    "        'Z': 0.001\n",
    "    }\n",
    "\n",
    "    # Generate all possible permutations of the 26 letters (substitution mappings)\n",
    "    letter_permutations = permutations(string.ascii_uppercase)\n",
    "\n",
    "    best_decryption = \"\"\n",
    "    best_score = 0\n",
    "\n",
    "    for permutation in letter_permutations:\n",
    "        mapping = dict(zip(string.ascii_uppercase, permutation))\n",
    "        decrypted_text = ''.join(mapping[char] if char in mapping else char for char in ciphertext)\n",
    "\n",
    "        # Score the decryption based on character frequencies\n",
    "        ciphertext_frequencies = calculate_frequencies(decrypted_text)\n",
    "        score = sum([ciphertext_frequencies[char] * english_frequencies[char] for char in string.ascii_uppercase])\n",
    "\n",
    "        # If the current decryption has a higher score, update the best decryption\n",
    "        if score > best_score:\n",
    "            best_score = score\n",
    "            best_decryption = decrypted_text\n",
    "    \n",
    "    return best_decryption\n",
    "\n",
    "# Example usage:\n",
    "ciphertext = \"XYZZA, CDCFA!\"\n",
    "plaintext = break_substitution_cipher(ciphertext)\n",
    "print(plaintext)"
   ]
  },
  {
   "attachments": {},
   "cell_type": "markdown",
   "metadata": {},
   "source": [
    "### 3. Hill Cipher\n",
    "\n",
    "Write a Python function `break_hill_cipher(ciphertext, n)` that takes a string `ciphertext` and an integer `n` as input and attempts to break the Hill cipher by performing frequency analysis on the letters in the ciphertext and using matrix algebra. The function should return the most likely plaintext obtained by decrypting the ciphertext using the correct key."
   ]
  },
  {
   "cell_type": "code",
   "execution_count": null,
   "metadata": {},
   "outputs": [],
   "source": [
    "import numpy as np\n",
    "from sympy import Matrix, mod_inverse\n",
    "\n",
    "def generate_random_key_matrix(n):\n",
    "    # Generate a random key matrix for Hill cipher\n",
    "    key_matrix = np.random.randint(26, size=(n, n))\n",
    "    while np.linalg.det(key_matrix) == 0:\n",
    "        # Ensure that the determinant is non-zero\n",
    "        key_matrix = np.random.randint(26, size=(n, n))\n",
    "    return key_matrix\n",
    "\n",
    "def break_hill_cipher(ciphertext, n):\n",
    "    # Define the alphabet and convert ciphertext to uppercase\n",
    "    alphabet = 'ABCDEFGHIJKLMNOPQRSTUVWXYZ'\n",
    "    ciphertext = ciphertext.upper()\n",
    "\n",
    "    # Create a frequency analysis of the ciphertext\n",
    "    frequencies = {letter: ciphertext.count(letter) for letter in alphabet}\n",
    "\n",
    "    # Sort the frequencies in descending order\n",
    "    sorted_frequencies = sorted(frequencies.items(), key=lambda x: x[1], reverse=True)\n",
    "\n",
    "    # Calculate the most common letter in English\n",
    "    most_common_letter = 'E'  # E is the most common letter in English\n",
    "\n",
    "    # Find the key matrix using the most common letter\n",
    "    key_matrix = np.zeros((n, n), dtype=int)\n",
    "    for i in range(n):\n",
    "        for j in range(n):\n",
    "            key_matrix[i][j] = (ord(sorted_frequencies[i][0]) - ord(most_common_letter)) % 26\n",
    "\n",
    "    # Calculate the determinant of the key matrix\n",
    "    determinant = int(round(np.linalg.det(key_matrix)))\n",
    "\n",
    "    if determinant == 0:\n",
    "        # If the determinant is zero, generate a new random key matrix\n",
    "        key_matrix = generate_random_key_matrix(n)\n",
    "\n",
    "    # Calculate the modular inverse of the determinant\n",
    "    determinant_inverse = mod_inverse(np.linalg.det(key_matrix), 26)\n",
    "\n",
    "    # Calculate the adjugate matrix\n",
    "    adjugate_matrix = Matrix(key_matrix).adjugate()\n",
    "\n",
    "    # Calculate the inverse of the key matrix\n",
    "    key_inverse = (determinant_inverse * adjugate_matrix).applyfunc(lambda x: x % 26)\n",
    "\n",
    "    # Convert the ciphertext to numbers\n",
    "    ciphertext_numbers = [ord(letter) - ord('A') for letter in ciphertext]\n",
    "\n",
    "    # Split the ciphertext into blocks of size n\n",
    "    blocks = [ciphertext_numbers[i:i + n] for i in range(0, len(ciphertext_numbers), n)]\n",
    "\n",
    "    # Decrypt the ciphertext using the key\n",
    "    plaintext_numbers = []\n",
    "    for block in blocks:\n",
    "        block = np.array(block).reshape(-1, 1)  # Reshape block into a column vector\n",
    "        decrypted_block = np.dot(key_inverse, block) % 26\n",
    "        plaintext_numbers.extend(decrypted_block)\n",
    "\n",
    "    # Convert the plaintext numbers back to letters\n",
    "    plaintext = ''.join(chr(number + ord('A')) for number in plaintext_numbers)\n",
    "\n",
    "    return plaintext\n",
    "\n",
    "# Example usage:\n",
    "ciphertext = \"OHFOEHTHNEOAOIWR\"\n",
    "n = 3\n",
    "plaintext = break_hill_cipher(ciphertext, n)\n",
    "print(\"Decrypted plaintext:\", plaintext)"
   ]
  }
 ],
 "metadata": {
  "kernelspec": {
   "display_name": "base",
   "language": "python",
   "name": "python3"
  },
  "language_info": {
   "codemirror_mode": {
    "name": "ipython",
    "version": 3
   },
   "file_extension": ".py",
   "mimetype": "text/x-python",
   "name": "python",
   "nbconvert_exporter": "python",
   "pygments_lexer": "ipython3",
   "version": "3.8.18"
  },
  "orig_nbformat": 4
 },
 "nbformat": 4,
 "nbformat_minor": 2
}
