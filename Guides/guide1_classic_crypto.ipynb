{
 "cells": [
  {
   "cell_type": "markdown",
   "metadata": {},
   "source": [
    "# Work Guide: Classical Cryptography"
   ]
  },
  {
   "cell_type": "markdown",
   "metadata": {},
   "source": [
    "## Part 1: Research Topics\n",
    "\n",
    "In this section, you will research various classical cryptography topics. Each topic has a set of questions to guide your learning. Avoid repetition and ensure that the questions are slightly different for each topic."
   ]
  },
  {
   "cell_type": "markdown",
   "metadata": {},
   "source": [
    "### 1. The Shift Cipher"
   ]
  },
  {
   "cell_type": "markdown",
   "metadata": {},
   "source": [
    "**1. What is the shift cipher and how does it work?**\n",
    "\n",
    "Also known as a Caesar cipher, is a simple encryption method. It works by shifting each letter in a message by a fixed number of positions in the alphabet. For instance, a shift of 3 would turn \"A\" into \"D.\" To decrypt, you shift the letters back by the same amount."
   ]
  },
  {
   "cell_type": "markdown",
   "metadata": {},
   "source": [
    "**2. How can you encrypt and decrypt messages using the shift cipher?**\n",
    "\n",
    "To encrypt messages, first we have to choose a shift value and afterwards replace each letter in the message with the letter shifted by the chosen value. To decrypt we use the same value and replace each encrypted letter with the letter shifted back by the chosen value.\n"
   ]
  },
  {
   "cell_type": "markdown",
   "metadata": {},
   "source": [
    "**3. What are the limitations and vulnerabilities of the shift cipher?**\n",
    "\n",
    "There are many limitations and vulnerabilities such as weak key space and frequent patterns which can lead to easy brute force attacks . Therefore it has high vulneravility and low security when sharing information. In addition, it only works with letters so it was limited applicability."
   ]
  },
  {
   "cell_type": "markdown",
   "metadata": {},
   "source": [
    "**4. Can you provide an example of a real-world application of the shift cipher?**\n",
    "\n",
    "I think its main application is in the educational field because its lack of security can't make it a good security mesure for companies to use. So it can be used in assignments and classes so people get to know the basics of cryptography."
   ]
  },
  {
   "cell_type": "markdown",
   "metadata": {},
   "source": [
    "**5. How does the shift cipher relate to modular arithmetic?**\n",
    "\n",
    "It relies on modular arithmetic because the encryption can be represented mathematically, with modulus as C = (P + K) mod 26  'P' represents the position of the plaintext letter, 'C' represents the position of the corresponding ciphertext letter, and 'K' is the shift key. The same with the decryption P = (C - K) mod 26."
   ]
  },
  {
   "cell_type": "markdown",
   "metadata": {},
   "source": [
    "### 2. The Substitution Cipher"
   ]
  },
  {
   "cell_type": "markdown",
   "metadata": {},
   "source": [
    "**1. What is the substitution cipher and how does it differ from the shift cipher?**\n",
    "\n",
    "Substitution replaces each letter with another letter, while shift shifts letters by a fixed amount. Substitution is more flexible and complex."
   ]
  },
  {
   "cell_type": "markdown",
   "metadata": {},
   "source": [
    "**2. How can you create a substitution cipher using a keyword or a random permutation?**\n",
    "\n",
    "Use a keyword or random permutation to assign unique letters to each letter of the alphabet, creating a substitution key."
   ]
  },
  {
   "cell_type": "markdown",
   "metadata": {},
   "source": [
    "**3. What are the advantages and disadvantages of the substitution cipher?**\n",
    "\n",
    "Substitution ciphers offer simplicity and flexibility, but their vulnerability to modern cryptanalysis methods and the advent of more secure encryption methods make them unsuitable for secure communications in today's digital age"
   ]
  },
  {
   "cell_type": "markdown",
   "metadata": {},
   "source": [
    "**4. How can frequency analysis be used to break a substitution cipher?**\n",
    "\n",
    "Frequency analysis examines letter patterns in the ciphertext, deducing the most frequent letters and their likely substitutions. Breaks substitution ciphers by identifying common letters in the ciphertext and matching them to frequently used letters in the language."
   ]
  },
  {
   "cell_type": "markdown",
   "metadata": {},
   "source": [
    "**5. Can you provide an example of a historical use of the substitution cipher?**\n",
    "\n",
    "The Playfair cipher is a more complex form of substitution cipher that was used during the Victorian era and World War I."
   ]
  },
  {
   "cell_type": "markdown",
   "metadata": {},
   "source": [
    "### 3. The Affine Cipher"
   ]
  },
  {
   "cell_type": "markdown",
   "metadata": {},
   "source": [
    "**1. What is the affine cipher and how does it combine the shift and substitution ciphers?**\n",
    "\n",
    "The affine cipher is a substitution cipher that combines elements of both the shift and substitution ciphers. It uses a mathematical formula to encrypt each letter, involving multiplicative and additive keys. The formula combines shifting and substitution in one step, making the cipher more complex. "
   ]
  },
  {
   "cell_type": "markdown",
   "metadata": {},
   "source": [
    "**2. How can you encrypt and decrypt messages using the affine cipher?**\n",
    "\n",
    "To encrypt first choose two keys ¡, we will call it 'a' and 'b' for each letter of the text convert it to a number (A=0, B=1, ..., Z=25) then apply the formula $$E(x) = (ax + b) \\mod 26$$ where x is the letter. To decrypt first convert each letter to number just as the encryption and then convert the letter with the formula $$D(y) = a^{-1} \\cdot (y - b)$$"
   ]
  },
  {
   "cell_type": "markdown",
   "metadata": {},
   "source": [
    "**3. What are the advantages and vulnerabilities of the affine cipher?**\n",
    "\n",
    "Som advantages are larger key space comparted to the previous and simpler ciphers, more complex encryption using modular arithmetic. Some disanvantages are linear structure makes it vulnerable attacks and to frequency analysis modular arithmetic patterns can reveal information "
   ]
  },
  {
   "cell_type": "markdown",
   "metadata": {},
   "source": [
    "**4. How can you break the affine cipher using known plaintext attacks?**\n",
    "\n",
    "First the attack gathers known plaintext and corresponding ciphertext pairs, sets up equations based on the known pairs utilizing the cipher's linear formula. Then solves equations to find the corresponding keys and with this it can decrypt the other ciphertexts. "
   ]
  },
  {
   "cell_type": "markdown",
   "metadata": {},
   "source": [
    "**5. Can you provide an example of a practical use of the affine cipher?**\n",
    "\n",
    "One practical use of the Affine Cipher could be in educational settings or programming challenges. It's often used to introduce students to basic concepts of cryptography"
   ]
  },
  {
   "cell_type": "markdown",
   "metadata": {},
   "source": [
    "### 4. The Hill Cipher"
   ]
  },
  {
   "cell_type": "markdown",
   "metadata": {},
   "source": [
    "# Lab Guide: Cryptography Programming Exercises"
   ]
  },
  {
   "cell_type": "markdown",
   "metadata": {},
   "source": [
    "### 1. Shift Cipher"
   ]
  },
  {
   "cell_type": "markdown",
   "metadata": {},
   "source": [
    "#### Exercise:\n",
    "Write a Python function `shift_cipher_encrypt(plaintext, shift)` that takes a plaintext string and a shift value as input and returns the corresponding ciphertext using the shift cipher."
   ]
  },
  {
   "cell_type": "code",
   "execution_count": 2,
   "metadata": {},
   "outputs": [
    {
     "name": "stdout",
     "output_type": "stream",
     "text": [
      "Encrypted Hello :  Khoor\n",
      "Encrypted World :  Btwqi\n"
     ]
    }
   ],
   "source": [
    "def shift_cipher_encrypt(plaintext, shift):\n",
    "    ciphertext = \"\"\n",
    "    for char in plaintext:\n",
    "        if char.isalpha(): #If it is an alphabetic character\n",
    "            is_upper = char.isupper() #If it is uppercase or not\n",
    "            #Calculates the shifted character's ASCII value by first determining whether the character is uppercase or lowercase and then \n",
    "            #performing the shift operation using modular arithmetic to wrap around the alphabet\n",
    "            shifted_char = chr(((ord(char) - ord('A' if is_upper else 'a') + shift) % 26) + ord('A' if is_upper else 'a'))             \n",
    "            ciphertext += shifted_char\n",
    "        else:\n",
    "            ciphertext += char\n",
    "    return ciphertext\n",
    "\n",
    "plaintext1 = \"Hello\"\n",
    "plaintext2 = \"World\"\n",
    "shift1 = 3\n",
    "shift2 = 5\n",
    "encrypted_text1 = shift_cipher_encrypt(plaintext1, shift1)\n",
    "print(\"Encrypted\", plaintext1, \": \", encrypted_text1)\n",
    "encrypted_text2 = shift_cipher_encrypt(plaintext2, shift2)\n",
    "print(\"Encrypted\", plaintext2, \": \", encrypted_text2)"
   ]
  }
 ],
 "metadata": {
  "kernelspec": {
   "display_name": "base",
   "language": "python",
   "name": "python3"
  },
  "language_info": {
   "codemirror_mode": {
    "name": "ipython",
    "version": 3
   },
   "file_extension": ".py",
   "mimetype": "text/x-python",
   "name": "python",
   "nbconvert_exporter": "python",
   "pygments_lexer": "ipython3",
   "version": "3.9.13"
  },
  "orig_nbformat": 4
 },
 "nbformat": 4,
 "nbformat_minor": 2
}
