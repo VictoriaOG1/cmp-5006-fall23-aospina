{
 "cells": [
  {
   "cell_type": "markdown",
   "metadata": {},
   "source": [
    "# Work Guide: Classical Cryptography"
   ]
  },
  {
   "cell_type": "markdown",
   "metadata": {},
   "source": [
    "## Part 1: Research Topics\n",
    "\n",
    "In this section, you will research various classical cryptography topics. Each topic has a set of questions to guide your learning. Avoid repetition and ensure that the questions are slightly different for each topic."
   ]
  },
  {
   "cell_type": "markdown",
   "metadata": {},
   "source": [
    "### 1. The Shift Cipher"
   ]
  },
  {
   "cell_type": "markdown",
   "metadata": {},
   "source": [
    "**1. What is the shift cipher and how does it work?**\n",
    "\n",
    "Also known as a Caesar cipher, is a simple encryption method. It works by shifting each letter in a message by a fixed number of positions in the alphabet. For instance, a shift of 3 would turn \"A\" into \"D.\" To decrypt, you shift the letters back by the same amount."
   ]
  },
  {
   "cell_type": "markdown",
   "metadata": {},
   "source": [
    "**2. How can you encrypt and decrypt messages using the shift cipher?**\n",
    "\n",
    "To encrypt messages, first we have to choose a shift value and afterwards replace each letter in the message with the letter shifted by the chosen value. To decrypt we use the same value and replace each encrypted letter with the letter shifted back by the chosen value \n"
   ]
  },
  {
   "cell_type": "markdown",
   "metadata": {},
   "source": [
    "**3. What are the limitations and vulnerabilities of the shift cipher?**\n",
    "\n",
    "There are many limitations and vulnerabilities such as weak key space and frequent patterns which can lead to easy brute force attacks . Therefore it has high vulneravility and low security when sharing information. In addition, it only works with letters so it was limited applicability"
   ]
  },
  {
   "cell_type": "markdown",
   "metadata": {},
   "source": [
    "**4. Can you provide an example of a real-world application of the shift cipher?**\n",
    "\n",
    "I think its main application is in the educational field because its lack of security can't make it a good security mesure for companies to use. So it can be used in assignments and classes so people get to know the basics of cryptography"
   ]
  },
  {
   "cell_type": "markdown",
   "metadata": {},
   "source": [
    "**5. How does the shift cipher relate to modular arithmetic?**\n",
    "\n",
    "It relies on modular arithmetic because the encryption can be represented mathematically, with modulus as C = (P + K) mod 26  'P' represents the position of the plaintext letter, 'C' represents the position of the corresponding ciphertext letter, and 'K' is the shift key. The same with the decryption P = (C - K) mod 26"
   ]
  },
  {
   "cell_type": "markdown",
   "metadata": {},
   "source": [
    "### 2. The Substitution Cipher"
   ]
  },
  {
   "cell_type": "markdown",
   "metadata": {},
   "source": [
    "**1. What is the substitution cipher and how does it differ from the shift cipher?**\n",
    "\n",
    "Substitution replaces each letter with another letter, while shift shifts letters by a fixed amount. Substitution is more flexible and complex."
   ]
  },
  {
   "cell_type": "markdown",
   "metadata": {},
   "source": [
    "**2. How can you create a substitution cipher using a keyword or a random permutation?**\n",
    "\n",
    "Use a keyword or random permutation to assign unique letters to each letter of the alphabet, creating a substitution key."
   ]
  },
  {
   "cell_type": "markdown",
   "metadata": {},
   "source": [
    "**3. What are the advantages and disadvantages of the substitution cipher?**\n",
    "\n",
    "Some advantages are greater security than shift and handles all characters. Some disadvantages are vulnerable to frequency analysis  and key length grows with complexity."
   ]
  },
  {
   "cell_type": "markdown",
   "metadata": {},
   "source": [
    "**4. How can frequency analysis be used to break a substitution cipher?**\n",
    "\n",
    "Frequency analysis examines letter patterns in the ciphertext, deducing the most frequent letters and their likely substitutions."
   ]
  },
  {
   "cell_type": "markdown",
   "metadata": {},
   "source": [
    "**5. Can you provide an example of a historical use of the substitution cipher?**\n",
    "\n",
    "The \"Caesar Box\" in ancient Rome used a substitution cipher to encipher messages by rotating two letter wheels, providing better security than simple shift ciphers."
   ]
  }
 ],
 "metadata": {
  "kernelspec": {
   "display_name": "base",
   "language": "python",
   "name": "python3"
  },
  "language_info": {
   "name": "python",
   "version": "3.9.13"
  },
  "orig_nbformat": 4
 },
 "nbformat": 4,
 "nbformat_minor": 2
}
