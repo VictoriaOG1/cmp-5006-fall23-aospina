{
 "cells": [
  {
   "cell_type": "code",
   "execution_count": 23,
   "metadata": {},
   "outputs": [
    {
     "name": "stdout",
     "output_type": "stream",
     "text": [
      "Modulus n: 81317\n",
      "Totient phi(n): 80736\n"
     ]
    }
   ],
   "source": [
    "p = 233\n",
    "q = 349\n",
    "\n",
    "# Calculate the modulus n\n",
    "n = p * q\n",
    "print(\"Modulus n:\", n, end=\"\\n\")\n",
    "\n",
    "# Calculate the totient phi(n)\n",
    "phi_n = (p - 1) * (q - 1)\n",
    "print(\"Totient phi(n):\", phi_n)"
   ]
  },
  {
   "cell_type": "code",
   "execution_count": 24,
   "metadata": {},
   "outputs": [
    {
     "name": "stdout",
     "output_type": "stream",
     "text": [
      "e: 103\n",
      "e is between 1 and phi_n and higher than 100\n",
      "e is a relative prime to phi_n\n"
     ]
    }
   ],
   "source": [
    "# Choose an integer e that is a relative prime to the totient\n",
    "import math\n",
    "\n",
    "e=103\n",
    "print(\"e:\", e) \n",
    "# Check 1 < e < phi_n\n",
    "if 1 < e < phi_n and e>100:\n",
    "    print(\"e is between 1 and phi_n and higher than 100\")\n",
    "# Chack if gcd(e, phi_n) = 1\n",
    "if math.gcd(e, phi_n) == 1:\n",
    "    print(\"e is a relative prime to phi_n\")"
   ]
  },
  {
   "cell_type": "code",
   "execution_count": 25,
   "metadata": {},
   "outputs": [
    {
     "name": "stdout",
     "output_type": "stream",
     "text": [
      "d: 45463\n",
      "\n",
      "Public key: (81317, 103)\n",
      "Private key: (81317, 45463)\n"
     ]
    }
   ],
   "source": [
    "# Calculate d which is the modular multiplicative inverse of e\n",
    "d = pow(e, -1, phi_n)\n",
    "print(\"d:\", d, end=\"\\n\\n\")\n",
    "\n",
    "# Print the public key\n",
    "print(\"Public key:\", (n, e))\n",
    "\n",
    "# Print the private key\n",
    "print(\"Private key:\", (n, d))"
   ]
  },
  {
   "cell_type": "code",
   "execution_count": 26,
   "metadata": {},
   "outputs": [
    {
     "name": "stdout",
     "output_type": "stream",
     "text": [
      "Encrypted message: 20505\n"
     ]
    }
   ],
   "source": [
    "m = 234\n",
    "\n",
    "# Encrypt the message\n",
    "c = pow(m, e, n)\n",
    "print(\"Encrypted message:\", c)"
   ]
  }
 ],
 "metadata": {
  "kernelspec": {
   "display_name": "security",
   "language": "python",
   "name": "python3"
  },
  "language_info": {
   "codemirror_mode": {
    "name": "ipython",
    "version": 3
   },
   "file_extension": ".py",
   "mimetype": "text/x-python",
   "name": "python",
   "nbconvert_exporter": "python",
   "pygments_lexer": "ipython3",
   "version": "3.11.5"
  }
 },
 "nbformat": 4,
 "nbformat_minor": 2
}
