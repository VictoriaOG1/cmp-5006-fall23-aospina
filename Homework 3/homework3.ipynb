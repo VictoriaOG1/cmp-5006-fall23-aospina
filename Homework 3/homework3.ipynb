{
 "cells": [
  {
   "cell_type": "markdown",
   "metadata": {},
   "source": [
    "# Homework 3 "
   ]
  },
  {
   "cell_type": "markdown",
   "metadata": {},
   "source": [
    "## Cookies"
   ]
  },
  {
   "cell_type": "markdown",
   "metadata": {},
   "source": [
    "We go to the website as we enter a type of cookie, or whatever word we get cookie with a value. And if we change that value and refresh the page we get another type of cookie. So we can change the value of the cookie and get the flag. \n",
    "\n",
    "<img src=\"./cookies1.png\" alt=\"Image\" >\n",
    "\n",
    "We search for the flag using the picoCTF webshell with the following command to send HTTP requests to a web server at the URL http://mercury.picoctf.net:6418/check with 'curl'. The script iterates through values of i from 0 to 30 and includes a cookie named \"name\" with the value of i in each request. After sending the requests, it uses grep to filter the output and only display lines that contain the string \"picoCTF\".\n",
    "\n",
    "<img src=\"./cookies2.png\" alt=\"Image\" >\n",
    "\n"
   ]
  },
  {
   "cell_type": "markdown",
   "metadata": {},
   "source": [
    "## Scavenger Hunt"
   ]
  },
  {
   "cell_type": "markdown",
   "metadata": {},
   "source": [
    "It says the website was made with HTML, CSS, and JS. So we can check the source code of the website and find the flag.\n",
    "\n",
    "First the HTMLc code: \n",
    "\n",
    "<img src=\"./scavenger1.png\" alt=\"Image\" >\n",
    "\n",
    "Second the CSS code:\n",
    "\n",
    "<img src=\"./scavenger2.png\" alt=\"Image\" >\n",
    "\n",
    "Third the JS code:\n",
    "\n",
    "<img src=\"./scavenger3.png\" alt=\"Image\" >\n",
    "\n",
    "Robots prevents webcrawler from indexing the website. So we can check the robots.txt file and find:\n",
    "\n",
    "<img src=\"./scavenger4.png\" alt=\"Image\" >\n",
    "\n",
    "Access is with capital A, so we can check the Access file of the apache server:\n",
    "\n",
    "<img src=\"./scavenger5.png\" alt=\"Image\" >\n",
    "\n",
    "Location for mac storage is DS_store\n",
    "\n",
    "<img src=\"./scavenger6.png\" alt=\"Image\" >"
   ]
  },
  {
   "cell_type": "markdown",
   "metadata": {},
   "source": [
    "## findme"
   ]
  },
  {
   "cell_type": "markdown",
   "metadata": {},
   "source": [
    "We can see the page redirects from other pages. So we can check the other pages and pass the code to a base64 decoder\n",
    "\n",
    "<img src=\"./findme1.png\" alt=\"Image\" >\n",
    "\n",
    "<img src=\"./findme2.png\" alt=\"Image\" >\n",
    "\n",
    "<img src=\"./findme3.png\" alt=\"Image\" >"
   ]
  }
 ],
 "metadata": {
  "language_info": {
   "name": "python"
  }
 },
 "nbformat": 4,
 "nbformat_minor": 2
}
