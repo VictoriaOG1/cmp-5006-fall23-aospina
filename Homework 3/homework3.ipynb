{
 "cells": [
  {
   "cell_type": "markdown",
   "metadata": {},
   "source": [
    "# Homework 3 "
   ]
  },
  {
   "cell_type": "markdown",
   "metadata": {},
   "source": [
    "## Cookies"
   ]
  },
  {
   "cell_type": "markdown",
   "metadata": {},
   "source": [
    "We go to the website as we enter a type of cookie, or whatever word we get cookie with a value. And if we change that value and refresh the page we get another type of cookie. So we can change the value of the cookie and get the flag. \n",
    "\n",
    "<img src=\"./cookies1.png\" alt=\"Image\" >\n",
    "\n",
    "We search for the flag using the picoCTF webshell with the following command to send HTTP requests to a web server at the URL http://mercury.picoctf.net:6418/check with 'curl'. The script iterates through values of i from 0 to 30 and includes a cookie named \"name\" with the value of i in each request. After sending the requests, it uses grep to filter the output and only display lines that contain the string \"picoCTF\".\n",
    "\n",
    "<img src=\"./cookies2.png\" alt=\"Image\" >\n",
    "\n"
   ]
  },
  {
   "cell_type": "markdown",
   "metadata": {},
   "source": [
    "## Scavenger Hunt"
   ]
  },
  {
   "cell_type": "markdown",
   "metadata": {},
   "source": [
    "It says the website was made with HTML, CSS, and JS. So we can check the source code of the website and find the flag.\n",
    "\n",
    "First the HTMLc code: \n",
    "\n",
    "<img src=\"./scavenger1.png\" alt=\"Image\" >\n",
    "\n",
    "Second the CSS code:\n",
    "\n",
    "<img src=\"./scavenger2.png\" alt=\"Image\" >\n",
    "\n",
    "Third the JS code:\n",
    "\n",
    "<img src=\"./scavenger3.png\" alt=\"Image\" >\n",
    "\n",
    "Robots prevents webcrawler from indexing the website. So we can check the robots.txt file and find:\n",
    "\n",
    "<img src=\"./scavenger4.png\" alt=\"Image\" >\n",
    "\n",
    "Access is with capital A, so we can check the Access file of the apache server:\n",
    "\n",
    "<img src=\"./scavenger5.png\" alt=\"Image\" >\n",
    "\n",
    "Location for mac storage is DS_store\n",
    "\n",
    "<img src=\"./scavenger6.png\" alt=\"Image\" >"
   ]
  },
  {
   "cell_type": "markdown",
   "metadata": {},
   "source": [
    "## findme"
   ]
  },
  {
   "cell_type": "markdown",
   "metadata": {},
   "source": [
    "We can see the page redirects from other pages. So we can check the other pages and pass the code to a base64 decoder\n",
    "\n",
    "<img src=\"./findme1.png\" alt=\"Image\" >\n",
    "\n",
    "<img src=\"./findme2.png\" alt=\"Image\" >\n",
    "\n",
    "<img src=\"./findme3.png\" alt=\"Image\" >"
   ]
  },
  {
   "cell_type": "markdown",
   "metadata": {},
   "source": [
    "## Inspect HTML\n",
    "\n",
    "We can check the source code of the website and find the flag.\n",
    "\n",
    "<img src=\"./inspect1.png\" alt=\"Image\" >"
   ]
  },
  {
   "cell_type": "markdown",
   "metadata": {},
   "source": [
    "## It is my Birthday"
   ]
  },
  {
   "cell_type": "markdown",
   "metadata": {},
   "source": [
    "The point is to submit 2 files with the same md5 hash. For this I searched for files of this sort on the web and found examples in https://github.com/corkami/collisions which are poeMD5_A.pdf and poeMD5_B.pdf. We downloaded them and submitted them to find: \n",
    "\n",
    "<img src=\"./birthday1.png\" alt=\"Image\" >"
   ]
  },
  {
   "cell_type": "markdown",
   "metadata": {},
   "source": [
    "## Local Authority"
   ]
  },
  {
   "cell_type": "markdown",
   "metadata": {},
   "source": [
    "We check how the login is done in the javascript code:\n",
    "\n",
    "<img src=\"./local1.png\" alt=\"Image\" >\n",
    "\n",
    "we can see that the password and username go through a function called filter which return true if the each caracter is between the limits. 48 -57 meaning there are numbers 65-90 meaning there are capital letters and 97-122 meaning there are lowercase letters. Also that they use a checkPassword function to login, this we can encounter in the secure.js file:\n",
    "\n",
    "<img src=\"./local2.png\" alt=\"Image\" >\n",
    "\n",
    "We put the password and username to find the flag:\n",
    "\n",
    "<img src=\"./local3.png\" alt=\"Image\" >"
   ]
  },
  {
   "cell_type": "markdown",
   "metadata": {},
   "source": [
    "## Login"
   ]
  },
  {
   "cell_type": "markdown",
   "metadata": {},
   "source": [
    "We see the javascript file for the login and we encounter the following:\n",
    "\n",
    "<img src=\"./login1.png\" alt=\"Image\" >\n",
    "\n",
    "Here we see the password and the username, if we go through a base64 decoder we get the flag:\n",
    "\n",
    "<img src=\"./login2.png\" alt=\"Image\" >"
   ]
  },
  {
   "cell_type": "markdown",
   "metadata": {},
   "source": [
    "## Logon"
   ]
  },
  {
   "cell_type": "markdown",
   "metadata": {},
   "source": [
    "First I logged in with any username and passsword, it says we can't see the flag. So we can check the cookies, and if in admin we put true we can see the flag:\n",
    "\n",
    "<img src=\"./logon1.png\" alt=\"Image\" >\n",
    "\n",
    "<img src=\"./logon2.png\" alt=\"Image\" >"
   ]
  }
 ],
 "metadata": {
  "language_info": {
   "name": "python"
  }
 },
 "nbformat": 4,
 "nbformat_minor": 2
}
