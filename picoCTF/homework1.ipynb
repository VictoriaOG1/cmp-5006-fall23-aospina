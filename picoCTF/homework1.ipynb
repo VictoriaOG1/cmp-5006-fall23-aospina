{
 "cells": [
  {
   "cell_type": "markdown",
   "metadata": {},
   "source": [
    "# Homework 1"
   ]
  },
  {
   "cell_type": "markdown",
   "metadata": {},
   "source": [
    "## Mod26"
   ]
  },
  {
   "cell_type": "code",
   "execution_count": 1,
   "metadata": {},
   "outputs": [
    {
     "name": "stdout",
     "output_type": "stream",
     "text": [
      "Encrypted cvpbPGS{arkg_gvzr_V'yy_gel_2_ebhaqf_bs_ebg13_uJdSftmh} :  picoCTF{next_time_I'll_try_2_rounds_of_rot13_hWqFsgzu}\n"
     ]
    }
   ],
   "source": [
    "def shift_cipher_encrypt(plaintext, shift):\n",
    "    ciphertext = \"\"\n",
    "    for char in plaintext:\n",
    "        if char.isalpha(): #If it is an alphabetic character\n",
    "            is_upper = char.isupper() #If it is uppercase or not\n",
    "            #Calculates the shifted character's ASCII value by first determining whether the character is uppercase or lowercase and then \n",
    "            #performing the shift operation using modular arithmetic to wrap around the alphabet\n",
    "            shifted_char = chr(((ord(char) - ord('A' if is_upper else 'a') + shift) % 26) + ord('A' if is_upper else 'a'))             \n",
    "            ciphertext += shifted_char\n",
    "        else:\n",
    "            ciphertext += char\n",
    "    return ciphertext\n",
    "\n",
    "plaintext = \"cvpbPGS{arkg_gvzr_V'yy_gel_2_ebhaqf_bs_ebg13_uJdSftmh}\"\n",
    "shift = 13\n",
    "encrypted_text = shift_cipher_encrypt(plaintext, shift)\n",
    "print(\"Encrypted\", plaintext, \": \", encrypted_text)"
   ]
  },
  {
   "cell_type": "markdown",
   "metadata": {},
   "source": [
    "## 13"
   ]
  },
  {
   "cell_type": "code",
   "execution_count": 2,
   "metadata": {},
   "outputs": [
    {
     "name": "stdout",
     "output_type": "stream",
     "text": [
      "Encrypted cvpbPGS{abg_gbb_onq_bs_n_ceboyrz} :  picoCTF{not_too_bad_of_a_problem}\n"
     ]
    }
   ],
   "source": [
    "plaintext = \"cvpbPGS{abg_gbb_onq_bs_n_ceboyrz}\"\n",
    "shift = 13\n",
    "encrypted_text = shift_cipher_encrypt(plaintext, shift)\n",
    "print(\"Encrypted\", plaintext, \": \", encrypted_text)"
   ]
  },
  {
   "cell_type": "markdown",
   "metadata": {},
   "source": [
    "## Easy Peasy"
   ]
  },
  {
   "cell_type": "code",
   "execution_count": 2,
   "metadata": {},
   "outputs": [
    {
     "name": "stdout",
     "output_type": "stream",
     "text": [
      "******************Welcome to our OTP implementation!******************\n",
      "\n",
      "This is the encrypted flag!\n",
      "551e6c4c5e55644b56566d1b5100153d4004026a4b52066b4a5556383d4b0007\n",
      "\n",
      "What data would you like to encrypt? \n"
     ]
    }
   ],
   "source": [
    "import socket\n",
    "\n",
    "# Define the server address and port\n",
    "server_address = \"mercury.picoctf.net\"\n",
    "port = 11188\n",
    "\n",
    "# Create a socket\n",
    "client_socket = socket.socket(socket.AF_INET, socket.SOCK_STREAM)\n",
    "\n",
    "try:\n",
    "    # Connect to the server\n",
    "    client_socket.connect((server_address, port))\n",
    "\n",
    "    while True:\n",
    "        # Listen for server requests\n",
    "        data = client_socket.recv(1024)\n",
    "        \n",
    "        if not data:\n",
    "            # No more data to receive; the server has finished\n",
    "            break\n",
    "\n",
    "        print(data.decode(\"utf-8\"))\n",
    "\n",
    "        # Process the server's request and generate a response\n",
    "        response = \"AAAAAAA\"\n",
    "\n",
    "        # Send the response back to the server\n",
    "        client_socket.send(response.encode(\"utf-8\"))\n",
    "\n",
    "except Exception as e:\n",
    "    print(f\"Error: {str(e)}\")\n",
    "\n",
    "finally:\n",
    "    # Close the socket\n",
    "    client_socket.close()"
   ]
  },
  {
   "cell_type": "code",
   "execution_count": null,
   "metadata": {},
   "outputs": [],
   "source": [
    "import paramiko\n",
    "\n",
    "hostname = 'mercury.picoctf.net'\n",
    "\n",
    "ssh_client = paramiko.SSHClient()\n",
    "ssh_client.set_missing_host_key_policy(paramiko.AutoAddPolicy())\n",
    "\n",
    "ssh_client.connect(hostname)\n",
    "\n",
    "command = 'ls -l'\n",
    "stdin, stdout, stderr = ssh_client.exec_command(command)\n",
    "\n",
    "print(stdout.read().decode('utf-8'))\n",
    "\n",
    "ssh_client.close()"
   ]
  },
  {
   "cell_type": "code",
   "execution_count": 1,
   "metadata": {},
   "outputs": [
    {
     "name": "stdout",
     "output_type": "stream",
     "text": [
      "32.0\n"
     ]
    }
   ],
   "source": [
    "enc_flag = \"551e6c4c5e55644b56566d1b5100153d4004026a4b52066b4a5556383d4b0007\"\n",
    "len_flag = len(enc_flag)/2 #the flag is in hexadecimal\n",
    "print(len_flag)\n",
    "\n",
    "\n",
    "enc_flag = bytes.fromhex(enc_flag)"
   ]
  },
  {
   "cell_type": "code",
   "execution_count": null,
   "metadata": {},
   "outputs": [],
   "source": [
    "import os.path\n",
    "\n",
    "KEY_FILE = \"key\"\n",
    "KEY_LEN = 50000\n",
    "FLAG_FILE = \"flag\"\n",
    "\n",
    "\n",
    "def startup(key_location):\n",
    "\tflag = open(FLAG_FILE).read()\n",
    "\tkf = open(KEY_FILE, \"rb\").read()\n",
    "\n",
    "\tstart = key_location\n",
    "\tstop = key_location + len(flag)\n",
    "\n",
    "\tkey = kf[start:stop]\n",
    "\tkey_location = stop\n",
    "\n",
    "\tresult = list(map(lambda p, k: \"{:02x}\".format(ord(p) ^ k), flag, key))\n",
    "\tprint(\"This is the encrypted flag!\\n{}\\n\".format(\"\".join(result)))\n",
    "\n",
    "\treturn key_location\n",
    "\n",
    "def encrypt(key_location):\n",
    "\tui = input(\"What data would you like to encrypt? \").rstrip()\n",
    "\tif len(ui) == 0 or len(ui) > KEY_LEN:\n",
    "\t\treturn -1\n",
    "\n",
    "\tstart = key_location\n",
    "\tstop = key_location + len(ui)\n",
    "\n",
    "\tkf = open(KEY_FILE, \"rb\").read()\n",
    "\n",
    "\tif stop >= KEY_LEN:\n",
    "\t\tstop = stop % KEY_LEN\n",
    "\t\tkey = kf[start:] + kf[:stop]\n",
    "\telse:\n",
    "\t\tkey = kf[start:stop]\n",
    "\tkey_location = stop\n",
    "\n",
    "\tresult = list(map(lambda p, k: \"{:02x}\".format(ord(p) ^ k), ui, key))\n",
    "\n",
    "\tprint(\"Here ya go!\\n{}\\n\".format(\"\".join(result)))\n",
    "\n",
    "\treturn key_location\n",
    "\n",
    "\n",
    "print(\"******************Welcome to our OTP implementation!******************\")\n",
    "c = startup(5)\n",
    "while c >= 0:\n",
    "\tc = encrypt(c)"
   ]
  },
  {
   "cell_type": "markdown",
   "metadata": {},
   "source": [
    "## The numbers"
   ]
  },
  {
   "cell_type": "code",
   "execution_count": 4,
   "metadata": {},
   "outputs": [
    {
     "name": "stdout",
     "output_type": "stream",
     "text": [
      "The converted string is: P I C O C T F T H E N U M B E R S M A S O N\n"
     ]
    }
   ],
   "source": [
    "def numbers_to_letters(input_string):\n",
    "    # Define a mapping of numbers to letters\n",
    "    mapping = {\n",
    "        '1': 'A',\n",
    "        '2': 'B',\n",
    "        '3': 'C',\n",
    "        '4': 'D',\n",
    "        '5': 'E',\n",
    "        '6': 'F',\n",
    "        '7': 'G',\n",
    "        '8': 'H',\n",
    "        '9': 'I',\n",
    "        '10': 'J',\n",
    "        '11': 'K',\n",
    "        '12': 'L',\n",
    "        '13': 'M',\n",
    "        '14': 'N',\n",
    "        '15': 'O',\n",
    "        '16': 'P',\n",
    "        '17': 'Q',\n",
    "        '18': 'R',\n",
    "        '19': 'S',\n",
    "        '20': 'T',\n",
    "        '21': 'U',\n",
    "        '22': 'V',\n",
    "        '23': 'W',\n",
    "        '24': 'X',\n",
    "        '25': 'Y',\n",
    "        '26': 'Z',\n",
    "    }\n",
    "\n",
    "    result = \"\"\n",
    "    current_number = \"\"\n",
    "\n",
    "    for char in input_string:\n",
    "        if char.isdigit():\n",
    "            current_number += char\n",
    "        else:\n",
    "            if current_number:\n",
    "                if current_number in mapping:\n",
    "                    result += mapping[current_number]\n",
    "                else:\n",
    "                    result += current_number  # Append the number as is if not in mapping\n",
    "                current_number = \"\"\n",
    "            result += char\n",
    "\n",
    "    if current_number:\n",
    "        if current_number in mapping:\n",
    "            result += mapping[current_number]\n",
    "        else:\n",
    "            result += current_number  # Append the number as is if not in mapping\n",
    "\n",
    "    return result\n",
    "\n",
    "# Example usage:\n",
    "input_string = \"16 9 3 15 3 20 6 20 8 5 14 21 13 2 5 18 19 13 1 19 15 14\"\n",
    "result = numbers_to_letters(input_string)\n",
    "print(f\"The converted string is: {result}\")"
   ]
  },
  {
   "cell_type": "markdown",
   "metadata": {},
   "source": [
    "## New Caesar"
   ]
  },
  {
   "cell_type": "code",
   "execution_count": null,
   "metadata": {},
   "outputs": [],
   "source": [
    "import string\n",
    "\n",
    "LOWERCASE_OFFSET = ord(\"a\")\n",
    "ALPHABET = string.ascii_lowercase[:16]\n",
    "\n",
    "def b16_encode(plain):\n",
    "\tenc = \"\"\n",
    "\tfor c in plain:\n",
    "\t\tbinary = \"{0:08b}\".format(ord(c))\n",
    "\t\tenc += ALPHABET[int(binary[:4], 2)]\n",
    "\t\tenc += ALPHABET[int(binary[4:], 2)]\n",
    "\treturn enc\n",
    "\n",
    "def shift(c, k):\n",
    "\tt1 = ord(c) - LOWERCASE_OFFSET\n",
    "\tt2 = ord(k) - LOWERCASE_OFFSET\n",
    "\treturn ALPHABET[(t1 + t2) % len(ALPHABET)]\n",
    "\n",
    "flag = \"redacted\"\n",
    "key = \"redacted\"\n",
    "assert all([k in ALPHABET for k in key])\n",
    "assert len(key) == 1\n",
    "\n",
    "b16 = b16_encode(flag)\n",
    "enc = \"\"\n",
    "for i, c in enumerate(b16):\n",
    "\tenc += shift(c, key[i % len(key)])\n",
    "print(enc)"
   ]
  }
 ],
 "metadata": {
  "kernelspec": {
   "display_name": "base",
   "language": "python",
   "name": "python3"
  },
  "language_info": {
   "codemirror_mode": {
    "name": "ipython",
    "version": 3
   },
   "file_extension": ".py",
   "mimetype": "text/x-python",
   "name": "python",
   "nbconvert_exporter": "python",
   "pygments_lexer": "ipython3",
   "version": "3.11.4"
  },
  "orig_nbformat": 4
 },
 "nbformat": 4,
 "nbformat_minor": 2
}
