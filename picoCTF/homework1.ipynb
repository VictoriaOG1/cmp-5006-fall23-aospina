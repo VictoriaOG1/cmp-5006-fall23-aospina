{
 "cells": [
  {
   "cell_type": "markdown",
   "metadata": {},
   "source": [
    "# Homework 1"
   ]
  },
  {
   "cell_type": "markdown",
   "metadata": {},
   "source": [
    "## Mod26"
   ]
  },
  {
   "cell_type": "code",
   "execution_count": 1,
   "metadata": {},
   "outputs": [
    {
     "name": "stdout",
     "output_type": "stream",
     "text": [
      "Encrypted cvpbPGS{arkg_gvzr_V'yy_gel_2_ebhaqf_bs_ebg13_uJdSftmh} :  picoCTF{next_time_I'll_try_2_rounds_of_rot13_hWqFsgzu}\n"
     ]
    }
   ],
   "source": [
    "def shift_cipher_encrypt(plaintext, shift):\n",
    "    ciphertext = \"\"\n",
    "    for char in plaintext:\n",
    "        if char.isalpha(): #If it is an alphabetic character\n",
    "            is_upper = char.isupper() #If it is uppercase or not\n",
    "            #Calculates the shifted character's ASCII value by first determining whether the character is uppercase or lowercase and then \n",
    "            #performing the shift operation using modular arithmetic to wrap around the alphabet\n",
    "            shifted_char = chr(((ord(char) - ord('A' if is_upper else 'a') + shift) % 26) + ord('A' if is_upper else 'a'))             \n",
    "            ciphertext += shifted_char\n",
    "        else:\n",
    "            ciphertext += char\n",
    "    return ciphertext\n",
    "\n",
    "plaintext = \"cvpbPGS{arkg_gvzr_V'yy_gel_2_ebhaqf_bs_ebg13_uJdSftmh}\"\n",
    "shift = 13\n",
    "encrypted_text = shift_cipher_encrypt(plaintext, shift)\n",
    "print(\"Encrypted\", plaintext, \": \", encrypted_text)"
   ]
  },
  {
   "cell_type": "markdown",
   "metadata": {},
   "source": [
    "## 13"
   ]
  },
  {
   "cell_type": "code",
   "execution_count": 2,
   "metadata": {},
   "outputs": [
    {
     "name": "stdout",
     "output_type": "stream",
     "text": [
      "Encrypted cvpbPGS{abg_gbb_onq_bs_n_ceboyrz} :  picoCTF{not_too_bad_of_a_problem}\n"
     ]
    }
   ],
   "source": [
    "plaintext = \"cvpbPGS{abg_gbb_onq_bs_n_ceboyrz}\"\n",
    "shift = 13\n",
    "encrypted_text = shift_cipher_encrypt(plaintext, shift)\n",
    "print(\"Encrypted\", plaintext, \": \", encrypted_text)"
   ]
  },
  {
   "cell_type": "markdown",
   "metadata": {},
   "source": [
    "## Easy Peasy"
   ]
  },
  {
   "cell_type": "code",
   "execution_count": null,
   "metadata": {},
   "outputs": [],
   "source": [
    "#otp.py file\n",
    "import os.path\n",
    "\n",
    "KEY_FILE = \"key\"\n",
    "KEY_LEN = 50000\n",
    "FLAG_FILE = \"flag\"\n",
    "\n",
    "\n",
    "def startup(key_location):\n",
    "\tflag = open(FLAG_FILE).read()\n",
    "\tkf = open(KEY_FILE, \"rb\").read()\n",
    "\n",
    "\tstart = key_location\n",
    "\tstop = key_location + len(flag)\n",
    "\n",
    "\tkey = kf[start:stop]\n",
    "\tkey_location = stop\n",
    "\n",
    "\tresult = list(map(lambda p, k: \"{:02x}\".format(ord(p) ^ k), flag, key))\n",
    "\tprint(\"This is the encrypted flag!\\n{}\\n\".format(\"\".join(result)))\n",
    "\n",
    "\treturn key_location\n",
    "\n",
    "def encrypt(key_location):\n",
    "\tui = input(\"What data would you like to encrypt? \").rstrip()\n",
    "\tif len(ui) == 0 or len(ui) > KEY_LEN:\n",
    "\t\treturn -1\n",
    "\n",
    "\tstart = key_location\n",
    "\tstop = key_location + len(ui)\n",
    "\n",
    "\tkf = open(KEY_FILE, \"rb\").read()\n",
    "\n",
    "\tif stop >= KEY_LEN:\n",
    "\t\tstop = stop % KEY_LEN\n",
    "\t\tkey = kf[start:] + kf[:stop]\n",
    "\telse:\n",
    "\t\tkey = kf[start:stop]\n",
    "\tkey_location = stop\n",
    "\n",
    "\tresult = list(map(lambda p, k: \"{:02x}\".format(ord(p) ^ k), ui, key))\n",
    "\n",
    "\tprint(\"Here ya go!\\n{}\\n\".format(\"\".join(result)))\n",
    "\n",
    "\treturn key_location\n",
    "\n",
    "\n",
    "print(\"******************Welcome to our OTP implementation!******************\")\n",
    "c = startup(0)\n",
    "while c >= 0:\n",
    "\tc = encrypt(c)"
   ]
  },
  {
   "cell_type": "code",
   "execution_count": 15,
   "metadata": {},
   "outputs": [
    {
     "name": "stdout",
     "output_type": "stream",
     "text": [
      "7904ff830f1c5bba8f763707247ba3e1\n"
     ]
    }
   ],
   "source": [
    "from pwn import *\n",
    "\n",
    "enc_flag = bytes.fromhex(\"551e6c4c5e55644b56566d1b5100153d4004026a4b52066b4a5556383d4b0007\")\n",
    "dec_text = b'A'*32\n",
    "enc_text = bytes.fromhex(\"23661d3979721d3927711d392523361d3923741d3924771d3920201b1d392477\")\n",
    "\n",
    "key = xor(enc_text, dec_text)\n",
    "print(xor(enc_flag, key).decode())"
   ]
  },
  {
   "cell_type": "markdown",
   "metadata": {},
   "source": [
    "## The numbers"
   ]
  },
  {
   "cell_type": "code",
   "execution_count": 4,
   "metadata": {},
   "outputs": [
    {
     "name": "stdout",
     "output_type": "stream",
     "text": [
      "The converted string is: P I C O C T F T H E N U M B E R S M A S O N\n"
     ]
    }
   ],
   "source": [
    "def numbers_to_letters(input_string):\n",
    "    # Define a mapping of numbers to letters\n",
    "    mapping = {\n",
    "        '1': 'A',\n",
    "        '2': 'B',\n",
    "        '3': 'C',\n",
    "        '4': 'D',\n",
    "        '5': 'E',\n",
    "        '6': 'F',\n",
    "        '7': 'G',\n",
    "        '8': 'H',\n",
    "        '9': 'I',\n",
    "        '10': 'J',\n",
    "        '11': 'K',\n",
    "        '12': 'L',\n",
    "        '13': 'M',\n",
    "        '14': 'N',\n",
    "        '15': 'O',\n",
    "        '16': 'P',\n",
    "        '17': 'Q',\n",
    "        '18': 'R',\n",
    "        '19': 'S',\n",
    "        '20': 'T',\n",
    "        '21': 'U',\n",
    "        '22': 'V',\n",
    "        '23': 'W',\n",
    "        '24': 'X',\n",
    "        '25': 'Y',\n",
    "        '26': 'Z',\n",
    "    }\n",
    "\n",
    "    result = \"\"\n",
    "    current_number = \"\"\n",
    "\n",
    "    for char in input_string:\n",
    "        if char.isdigit():\n",
    "            current_number += char\n",
    "        else:\n",
    "            if current_number:\n",
    "                if current_number in mapping:\n",
    "                    result += mapping[current_number]\n",
    "                else:\n",
    "                    result += current_number  # Append the number as is if not in mapping\n",
    "                current_number = \"\"\n",
    "            result += char\n",
    "\n",
    "    if current_number:\n",
    "        if current_number in mapping:\n",
    "            result += mapping[current_number]\n",
    "        else:\n",
    "            result += current_number  # Append the number as is if not in mapping\n",
    "\n",
    "    return result\n",
    "\n",
    "# Example usage:\n",
    "input_string = \"16 9 3 15 3 20 6 20 8 5 14 21 13 2 5 18 19 13 1 19 15 14\"\n",
    "result = numbers_to_letters(input_string)\n",
    "print(f\"The converted string is: {result}\")"
   ]
  },
  {
   "cell_type": "markdown",
   "metadata": {},
   "source": [
    "## New Caesar"
   ]
  },
  {
   "cell_type": "markdown",
   "metadata": {},
   "source": [
    "Segun el codigo de abajo, la key se obtiene del alfabeto que es de 0-16 es decir de a-p"
   ]
  },
  {
   "cell_type": "code",
   "execution_count": 17,
   "metadata": {},
   "outputs": [
    {
     "name": "stdout",
     "output_type": "stream",
     "text": [
      "01100001\n",
      "gb\n",
      "gb\n"
     ]
    }
   ],
   "source": [
    "import string\n",
    "\n",
    "LOWERCASE_OFFSET = ord(\"a\")\n",
    "ALPHABET = string.ascii_lowercase[:16]\n",
    "\n",
    "def b16_encode(plain):\n",
    "\tenc = \"\"\n",
    "\tfor c in plain:\n",
    "\t\tbinary = \"{0:08b}\".format(ord(c)) #01100001 = 97\n",
    "\t\tprint(binary)\n",
    "\t\tenc += ALPHABET[int(binary[:4], 2)] #0110 = 6 ; index = g\n",
    "\t\tenc += ALPHABET[int(binary[4:], 2)] #0001 = 1 ; index = b\n",
    "\t\tprint(enc)\n",
    "\treturn enc\n",
    "\n",
    "def shift(c, k):\n",
    "\tt1 = ord(c) - LOWERCASE_OFFSET\n",
    "\tt2 = ord(k) - LOWERCASE_OFFSET\n",
    "\treturn ALPHABET[(t1 + t2) % len(ALPHABET)]\n",
    "\n",
    "flag = \"a\"\n",
    "key = \"a\"\n",
    "assert all([k in ALPHABET for k in key])\n",
    "assert len(key) == 1\n",
    "\n",
    "b16 = b16_encode(flag)\n",
    "enc = \"\"\n",
    "for i, c in enumerate(b16):\n",
    "\tenc += shift(c, key[i % len(key)])\n",
    "print(enc)"
   ]
  },
  {
   "cell_type": "code",
   "execution_count": 18,
   "metadata": {},
   "outputs": [
    {
     "name": "stdout",
     "output_type": "stream",
     "text": [
      "Key: a\n",
      "Ð\u000fÒÓÛßÐ\u000f\u001eù\u001e\u001fÙùÜÝÜÛÑ\fßÞÞßÐ\u0000\fÛÚ\u000fÓÚÒ\fß\u000fÒÑ\n",
      "Key: b\n",
      "Flag:  \u0010/\n",
      "/ ê\n",
      "íîíìâ\u001dàïïàá\u0011\u001dìë\u0010äëã\u001dà\u0010ãâ\u001eá\u0010ãäìàá\n",
      "Key: c\n",
      "Flag:  !0\u001b01û\u001bþÿþýó.ñððñò\".ýü!õüô.ñ!ôó/ò!ôõýñò\n",
      "Key: d\n",
      "\u0005?\u00022\u0005\u00040\u00032\u0005\u0006\u000e\u0002\u0003\u000f\u0000\u000f\u000e\u0004?\u0002\u0001\u0001\u0002\u00033?\u000e\n",
      "Key: e\n",
      "Flag:  CR=RS\u001d=\u0010\u0011\u0010\u001f\u0015@\u0013\u0012\u0012\u0013\u0014D@\u001f\u001eC\u0017\u001e\u0016@\u0013C\u0016\u0015A\u0014C\u0016\u0017\u001f\u0013\u0014\n",
      "Key: f\n",
      "Flag:  TcNcd.N!\"! &Q$##$%UQ /T(/'Q$T'&R%T'( $%\n",
      "Key: g\n",
      "Flag:  et_tu?_23217b54456fb10e908b5e87c6e89156\n",
      "Key: h\n",
      "Flag:  v`@`CDCBHsFEEFGwsBAvJAIsFvIHtGvIJBFG\n",
      "Key: i\n",
      "Flag:  qQqTUTSYWVVWXSR[RZWZYXZ[SWX\n",
      "Key: j\n",
      "Flag:  §§¨befedjhgghidclckhkjikldhi\n",
      "Key: k\n",
      "Flag:  ©¸¸¹svwvu{¦yxxyzª¦ut©}t|¦y©|{§z©|}uyz\n",
      "Key: l\n",
      "Flag:  ºÉ¤ÉÊ¤·»·º·º¸º\n",
      "Key: m\n",
      "Flag:  ËÚµÚÛµÈÌÈËÈËÉË\n",
      "Key: n\n",
      "Flag:  ÜëÆëì¦Æ©ª©¨®Ù¬««¬­ÝÙ¨§Ü §¯Ù¬Ü¯®Ú­Ü¯ ¨¬­\n",
      "Key: o\n",
      "Flag:  íü×üý·×º»º¹¿ê½¼¼½¾îê¹¸í±¸°ê½í°¿ë¾í°±¹½¾\n",
      "Key: p\n",
      "\u000eÈèËÌËÊÀûÎÍÍÎÏÿûÊÉþÂÉÁûÎþÁÀüÏþÁÂÊÎÏ\n"
     ]
    }
   ],
   "source": [
    "from itertools import *\n",
    "import string\n",
    "\n",
    "ALPHABET = string.ascii_lowercase[:16]\n",
    "LOWERCASE_OFFSET = ord(\"a\")\n",
    "ALPHABET = string.ascii_lowercase[:16]\n",
    "\n",
    "def b16_encode(plain):\n",
    "\tenc = \"\"\n",
    "\tfor c in plain:\n",
    "\t\tbinary = \"{0:08b}\".format(ord(c))\n",
    "\t\tenc += ALPHABET[int(binary[:4], 2)]\n",
    "\t\tenc += ALPHABET[int(binary[4:], 2)]\n",
    "\treturn enc\n",
    "\n",
    "def shift(c, k):\n",
    "\tt1 = ord(c) - LOWERCASE_OFFSET\n",
    "\tt2 = ord(k) - LOWERCASE_OFFSET\n",
    "\treturn ALPHABET[(t1 + t2) % len(ALPHABET)]\n",
    "\n",
    "def b16_decode(enc):\n",
    "    dec = \"\"\n",
    "    for i in range(0, len(enc), 2):\n",
    "        binary = \"{0:04b}\".format(ALPHABET.index(enc[i])) + \"{0:04b}\".format(ALPHABET.index(enc[i+1]))\n",
    "        dec += chr(int(binary, 2))\n",
    "    return dec\n",
    "\n",
    "enc = \"apbopjbobpnjpjnmnnnmnlnbamnpnononpnaaaamnlnkapndnkncamnpapncnbannaapncndnlnpna\"\n",
    "for key in ALPHABET:\n",
    "    flag = \"\"\n",
    "    print(\"Key:\", key)\n",
    "    for c in enc:\n",
    "        flag += shift(c, key)\n",
    "    print(\"Flag: \", b16_decode(flag))"
   ]
  },
  {
   "cell_type": "markdown",
   "metadata": {},
   "source": [
    "## Caesar"
   ]
  },
  {
   "cell_type": "code",
   "execution_count": 19,
   "metadata": {},
   "outputs": [
    {
     "name": "stdout",
     "output_type": "stream",
     "text": [
      "Shift 0: ynkooejcpdanqxeykjrbdofgkq\n",
      "Shift 1: xmjnndiboczmpwdxjiqacnefjp\n",
      "Shift 2: wlimmchanbylovcwihpzbmdeio\n",
      "Shift 3: vkhllbgzmaxknubvhgoyalcdhn\n",
      "Shift 4: ujgkkafylzwjmtaugfnxzkbcgm\n",
      "Shift 5: tifjjzexkyvilsztfemwyjabfl\n",
      "Shift 6: sheiiydwjxuhkrysedlvxizaek\n",
      "Shift 7: rgdhhxcviwtgjqxrdckuwhyzdj\n",
      "Shift 8: qfcggwbuhvsfipwqcbjtvgxyci\n",
      "Shift 9: pebffvatgurehovpbaisufwxbh\n",
      "Shift 10: odaeeuzsftqdgnuoazhrtevwag\n",
      "Shift 11: nczddtyrespcfmtnzygqsduvzf\n",
      "Shift 12: mbyccsxqdrobelsmyxfprctuye\n",
      "Shift 13: laxbbrwpcqnadkrlxweoqbstxd\n",
      "Shift 14: kzwaaqvobpmzcjqkwvdnparswc\n",
      "Shift 15: jyvzzpunaolybipjvucmozqrvb\n",
      "Shift 16: ixuyyotmznkxahoiutblnypqua\n",
      "Shift 17: hwtxxnslymjwzgnhtsakmxoptz\n",
      "Shift 18: gvswwmrkxlivyfmgsrzjlwnosy\n",
      "Shift 19: furvvlqjwkhuxelfrqyikvmnrx\n",
      "Shift 20: etquukpivjgtwdkeqpxhjulmqw\n",
      "Shift 21: dspttjohuifsvcjdpowgitklpv\n",
      "Shift 22: crossingtherubiconvfhsjkou\n",
      "Shift 23: bqnrrhmfsgdqtahbnmuegrijnt\n",
      "Shift 24: apmqqglerfcpszgamltdfqhims\n",
      "Shift 25: zolppfkdqeboryfzlkscepghlr\n"
     ]
    }
   ],
   "source": [
    "def caesar_decrypt(ciphertext, shift):\n",
    "    decrypted_text = \"\"\n",
    "\n",
    "    for char in ciphertext:\n",
    "        if char.isalpha():\n",
    "            is_upper = char.isupper()\n",
    "            char = char.lower()\n",
    "            decrypted_char = chr(((ord(char) - ord('a') - shift) % 26) + ord('a'))\n",
    "            if is_upper:\n",
    "                decrypted_char = decrypted_char.upper()\n",
    "            decrypted_text += decrypted_char\n",
    "        else:\n",
    "            decrypted_text += char\n",
    "\n",
    "    return decrypted_text\n",
    "\n",
    "def brute_force_caesar(ciphertext):\n",
    "    for shift in range(26):  # Try all possible shifts\n",
    "        decrypted_text = caesar_decrypt(ciphertext, shift)\n",
    "        print(f\"Shift {shift}: {decrypted_text}\")\n",
    "\n",
    "# Example usage:\n",
    "cipher_text = \"ynkooejcpdanqxeykjrbdofgkq\"\n",
    "brute_force_caesar(cipher_text)"
   ]
  },
  {
   "cell_type": "markdown",
   "metadata": {},
   "source": [
    "## Easy1\n"
   ]
  },
  {
   "cell_type": "markdown",
   "metadata": {},
   "source": [
    " A B C D E F G H I J K L M N O P Q R S T U V W X Y Z \n",
    "\n",
    "   +----------------------------------------------------\n",
    "\n",
    "A | A B C D E F G H I J K L M N O P Q R S T U V W X Y Z\n",
    "\n",
    "B | B C D E F G H I J K L M N O P Q R S T U V W X Y Z A\n",
    "\n",
    "C | C D E F G H I J K L M N O P Q R S T U V W X Y Z A B\n",
    "\n",
    "D | D E F G H I J K L M N O P Q R S T U V W X Y Z A B C\n",
    "\n",
    "E | E F G H I J K L M N O P Q R S T U V W X Y Z A B C D\n",
    "\n",
    "F | F G H I J K L M N O P Q R S T U V W X Y Z A B C D E\n",
    "\n",
    "G | G H I J K L M N O P Q R S T U V W X Y Z A B C D E F\n",
    "\n",
    "H | H I J K L M N O P Q R S T U V W X Y Z A B C D E F G\n",
    "\n",
    "I | I J K L M N O P Q R S T U V W X Y Z A B C D E F G H\n",
    "\n",
    "J | J K L M N O P Q R S T U V W X Y Z A B C D E F G H I\n",
    "\n",
    "K | K L M N O P Q R S T U V W X Y Z A B C D E F G H I J\n",
    "\n",
    "L | L M N O P Q R S T U V W X Y Z A B C D E F G H I J K\n",
    "\n",
    "M | M N O P Q R S T U V W X Y Z A B C D E F G H I J K L\n",
    "\n",
    "N | N O P Q R S T U V W X Y Z A B C D E F G H I J K L M\n",
    "\n",
    "O | O P Q R S T U V W X Y Z A B C D E F G H I J K L M N\n",
    "\n",
    "P | P Q R S T U V W X Y Z A B C D E F G H I J K L M N O\n",
    "\n",
    "Q | Q R S T U V W X Y Z A B C D E F G H I J K L M N O P\n",
    "\n",
    "R | R S T U V W X Y Z A B C D E F G H I J K L M N O P Q\n",
    "\n",
    "S | S T U V W X Y Z A B C D E F G H I J K L M N O P Q R\n",
    "\n",
    "T | T U V W X Y Z A B C D E F G H I J K L M N O P Q R S\n",
    "\n",
    "U | U V W X Y Z A B C D E F G H I J K L M N O P Q R S T\n",
    "\n",
    "V | V W X Y Z A B C D E F G H I J K L M N O P Q R S T U\n",
    "\n",
    "W | W X Y Z A B C D E F G H I J K L M N O P Q R S T U V\n",
    "\n",
    "X | X Y Z A B C D E F G H I J K L M N O P Q R S T U V W\n",
    "\n",
    "Y | Y Z A B C D E F G H I J K L M N O P Q R S T U V W X\n",
    "\n",
    "Z | Z A B C D E F G H I J K L M N O P Q R S T U V W X Y"
   ]
  },
  {
   "cell_type": "markdown",
   "metadata": {},
   "source": [
    "flag = UFJKXQZQUN B\n",
    "key = SOLVECRYPT O"
   ]
  },
  {
   "cell_type": "markdown",
   "metadata": {},
   "source": [
    "CRYPTOISFUN"
   ]
  },
  {
   "cell_type": "markdown",
   "metadata": {},
   "source": [
    "## Spelling-quiz"
   ]
  },
  {
   "cell_type": "markdown",
   "metadata": {},
   "source": [
    "The following was used to solve: https://quipqiup.com/"
   ]
  },
  {
   "cell_type": "code",
   "execution_count": null,
   "metadata": {},
   "outputs": [],
   "source": [
    "#encrypt.py file\n",
    "\n",
    "import random\n",
    "import os\n",
    "\n",
    "files = [\n",
    "    os.path.join(path, file)\n",
    "    for path, dirs, files in os.walk('.')\n",
    "    for file in files\n",
    "    if file.split('.')[-1] == 'txt'\n",
    "]\n",
    "\n",
    "alphabet = list('abcdefghijklmnopqrstuvwxyz')\n",
    "random.shuffle(shuffled := alphabet[:])\n",
    "dictionary = dict(zip(alphabet, shuffled))\n",
    "\n",
    "for filename in files:\n",
    "    text = open(filename, 'r').read()\n",
    "    encrypted = ''.join([\n",
    "        dictionary[c]\n",
    "        if c in dictionary else c\n",
    "        for c in text\n",
    "    ])\n",
    "    open(filename, 'w').write(encrypted)\n",
    "\n",
    "flag = \"brcfxba vfr mid hosbrm iprc exa hoav vwcrm\""
   ]
  }
 ],
 "metadata": {
  "kernelspec": {
   "display_name": "base",
   "language": "python",
   "name": "python3"
  },
  "language_info": {
   "codemirror_mode": {
    "name": "ipython",
    "version": 3
   },
   "file_extension": ".py",
   "mimetype": "text/x-python",
   "name": "python",
   "nbconvert_exporter": "python",
   "pygments_lexer": "ipython3",
   "version": "3.11.5"
  },
  "orig_nbformat": 4
 },
 "nbformat": 4,
 "nbformat_minor": 2
}
